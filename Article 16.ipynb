{
 "cells": [
  {
   "cell_type": "code",
   "execution_count": 1,
   "metadata": {},
   "outputs": [
    {
     "data": {
      "text/plain": [
       "'C:\\\\Users\\\\user\\\\Desktop\\\\Articles\\\\Article 16'"
      ]
     },
     "execution_count": 1,
     "metadata": {},
     "output_type": "execute_result"
    }
   ],
   "source": [
    "import os\n",
    "os.getcwd()"
   ]
  },
  {
   "cell_type": "code",
   "execution_count": 2,
   "metadata": {},
   "outputs": [],
   "source": [
    "import pandas as pd\n",
    "import numpy as np\n",
    "import matplotlib.pyplot as plt\n",
    "import analysis_kit as ak\n",
    "%load_ext autoreload\n",
    "%autoreload"
   ]
  },
  {
   "cell_type": "code",
   "execution_count": 3,
   "metadata": {},
   "outputs": [
    {
     "data": {
      "text/html": [
       "<div>\n",
       "<style scoped>\n",
       "    .dataframe tbody tr th:only-of-type {\n",
       "        vertical-align: middle;\n",
       "    }\n",
       "\n",
       "    .dataframe tbody tr th {\n",
       "        vertical-align: top;\n",
       "    }\n",
       "\n",
       "    .dataframe thead th {\n",
       "        text-align: right;\n",
       "    }\n",
       "</style>\n",
       "<table border=\"1\" class=\"dataframe\">\n",
       "  <thead>\n",
       "    <tr style=\"text-align: right;\">\n",
       "      <th></th>\n",
       "      <th>Open</th>\n",
       "      <th>High</th>\n",
       "      <th>Low</th>\n",
       "      <th>Close</th>\n",
       "      <th>Adj Close</th>\n",
       "      <th>Volume</th>\n",
       "    </tr>\n",
       "    <tr>\n",
       "      <th>Date</th>\n",
       "      <th></th>\n",
       "      <th></th>\n",
       "      <th></th>\n",
       "      <th></th>\n",
       "      <th></th>\n",
       "      <th></th>\n",
       "    </tr>\n",
       "  </thead>\n",
       "  <tbody>\n",
       "    <tr>\n",
       "      <th>2000-06-01</th>\n",
       "      <td>16.703125</td>\n",
       "      <td>17.760418</td>\n",
       "      <td>16.703125</td>\n",
       "      <td>17.552082</td>\n",
       "      <td>13.613434</td>\n",
       "      <td>7002600</td>\n",
       "    </tr>\n",
       "    <tr>\n",
       "      <th>2000-07-01</th>\n",
       "      <td>17.604168</td>\n",
       "      <td>18.442707</td>\n",
       "      <td>16.677082</td>\n",
       "      <td>17.057293</td>\n",
       "      <td>13.235090</td>\n",
       "      <td>2937000</td>\n",
       "    </tr>\n",
       "    <tr>\n",
       "      <th>2000-08-01</th>\n",
       "      <td>17.109375</td>\n",
       "      <td>18.690104</td>\n",
       "      <td>16.812500</td>\n",
       "      <td>18.645832</td>\n",
       "      <td>14.467663</td>\n",
       "      <td>1231200</td>\n",
       "    </tr>\n",
       "    <tr>\n",
       "      <th>2000-09-01</th>\n",
       "      <td>18.729168</td>\n",
       "      <td>18.796875</td>\n",
       "      <td>17.562500</td>\n",
       "      <td>18.106771</td>\n",
       "      <td>14.049398</td>\n",
       "      <td>3868800</td>\n",
       "    </tr>\n",
       "    <tr>\n",
       "      <th>2000-10-01</th>\n",
       "      <td>18.174479</td>\n",
       "      <td>18.203125</td>\n",
       "      <td>16.359375</td>\n",
       "      <td>18.203125</td>\n",
       "      <td>14.135219</td>\n",
       "      <td>3330600</td>\n",
       "    </tr>\n",
       "  </tbody>\n",
       "</table>\n",
       "</div>"
      ],
      "text/plain": [
       "                 Open       High        Low      Close  Adj Close   Volume\n",
       "Date                                                                      \n",
       "2000-06-01  16.703125  17.760418  16.703125  17.552082  13.613434  7002600\n",
       "2000-07-01  17.604168  18.442707  16.677082  17.057293  13.235090  2937000\n",
       "2000-08-01  17.109375  18.690104  16.812500  18.645832  14.467663  1231200\n",
       "2000-09-01  18.729168  18.796875  17.562500  18.106771  14.049398  3868800\n",
       "2000-10-01  18.174479  18.203125  16.359375  18.203125  14.135219  3330600"
      ]
     },
     "execution_count": 3,
     "metadata": {},
     "output_type": "execute_result"
    }
   ],
   "source": [
    "ishares=pd.read_csv(\"IJR.csv\", index_col=0, header=0, parse_dates=True)\n",
    "ishares.head()"
   ]
  },
  {
   "cell_type": "code",
   "execution_count": 4,
   "metadata": {},
   "outputs": [
    {
     "data": {
      "text/plain": [
       "Date\n",
       "2000-06-01    13.613434\n",
       "2000-07-01    13.235090\n",
       "2000-08-01    14.467663\n",
       "2000-09-01    14.049398\n",
       "2000-10-01    14.135219\n",
       "Name: Adj Close, dtype: float64"
      ]
     },
     "execution_count": 4,
     "metadata": {},
     "output_type": "execute_result"
    }
   ],
   "source": [
    "ishares=ishares[\"Adj Close\"]\n",
    "ishares.head()"
   ]
  },
  {
   "cell_type": "code",
   "execution_count": 5,
   "metadata": {},
   "outputs": [
    {
     "data": {
      "text/html": [
       "<div>\n",
       "<style scoped>\n",
       "    .dataframe tbody tr th:only-of-type {\n",
       "        vertical-align: middle;\n",
       "    }\n",
       "\n",
       "    .dataframe tbody tr th {\n",
       "        vertical-align: top;\n",
       "    }\n",
       "\n",
       "    .dataframe thead th {\n",
       "        text-align: right;\n",
       "    }\n",
       "</style>\n",
       "<table border=\"1\" class=\"dataframe\">\n",
       "  <thead>\n",
       "    <tr style=\"text-align: right;\">\n",
       "      <th></th>\n",
       "      <th>Adj Close</th>\n",
       "    </tr>\n",
       "    <tr>\n",
       "      <th>Date</th>\n",
       "      <th></th>\n",
       "    </tr>\n",
       "  </thead>\n",
       "  <tbody>\n",
       "    <tr>\n",
       "      <th>2000-06-01</th>\n",
       "      <td>13.613434</td>\n",
       "    </tr>\n",
       "    <tr>\n",
       "      <th>2000-07-01</th>\n",
       "      <td>13.235090</td>\n",
       "    </tr>\n",
       "    <tr>\n",
       "      <th>2000-08-01</th>\n",
       "      <td>14.467663</td>\n",
       "    </tr>\n",
       "    <tr>\n",
       "      <th>2000-09-01</th>\n",
       "      <td>14.049398</td>\n",
       "    </tr>\n",
       "    <tr>\n",
       "      <th>2000-10-01</th>\n",
       "      <td>14.135219</td>\n",
       "    </tr>\n",
       "  </tbody>\n",
       "</table>\n",
       "</div>"
      ],
      "text/plain": [
       "            Adj Close\n",
       "Date                 \n",
       "2000-06-01  13.613434\n",
       "2000-07-01  13.235090\n",
       "2000-08-01  14.467663\n",
       "2000-09-01  14.049398\n",
       "2000-10-01  14.135219"
      ]
     },
     "execution_count": 5,
     "metadata": {},
     "output_type": "execute_result"
    }
   ],
   "source": [
    "ishares=ishares.to_frame()\n",
    "ishares.head()"
   ]
  },
  {
   "cell_type": "code",
   "execution_count": 6,
   "metadata": {},
   "outputs": [
    {
     "data": {
      "text/html": [
       "<div>\n",
       "<style scoped>\n",
       "    .dataframe tbody tr th:only-of-type {\n",
       "        vertical-align: middle;\n",
       "    }\n",
       "\n",
       "    .dataframe tbody tr th {\n",
       "        vertical-align: top;\n",
       "    }\n",
       "\n",
       "    .dataframe thead th {\n",
       "        text-align: right;\n",
       "    }\n",
       "</style>\n",
       "<table border=\"1\" class=\"dataframe\">\n",
       "  <thead>\n",
       "    <tr style=\"text-align: right;\">\n",
       "      <th></th>\n",
       "      <th>ishares</th>\n",
       "    </tr>\n",
       "    <tr>\n",
       "      <th>Date</th>\n",
       "      <th></th>\n",
       "    </tr>\n",
       "  </thead>\n",
       "  <tbody>\n",
       "    <tr>\n",
       "      <th>2000-06-01</th>\n",
       "      <td>13.613434</td>\n",
       "    </tr>\n",
       "    <tr>\n",
       "      <th>2000-07-01</th>\n",
       "      <td>13.235090</td>\n",
       "    </tr>\n",
       "    <tr>\n",
       "      <th>2000-08-01</th>\n",
       "      <td>14.467663</td>\n",
       "    </tr>\n",
       "    <tr>\n",
       "      <th>2000-09-01</th>\n",
       "      <td>14.049398</td>\n",
       "    </tr>\n",
       "    <tr>\n",
       "      <th>2000-10-01</th>\n",
       "      <td>14.135219</td>\n",
       "    </tr>\n",
       "  </tbody>\n",
       "</table>\n",
       "</div>"
      ],
      "text/plain": [
       "              ishares\n",
       "Date                 \n",
       "2000-06-01  13.613434\n",
       "2000-07-01  13.235090\n",
       "2000-08-01  14.467663\n",
       "2000-09-01  14.049398\n",
       "2000-10-01  14.135219"
      ]
     },
     "execution_count": 6,
     "metadata": {},
     "output_type": "execute_result"
    }
   ],
   "source": [
    "ishares.columns=[\"ishares\"]\n",
    "ishares.head()"
   ]
  },
  {
   "cell_type": "code",
   "execution_count": 7,
   "metadata": {},
   "outputs": [
    {
     "data": {
      "text/html": [
       "<div>\n",
       "<style scoped>\n",
       "    .dataframe tbody tr th:only-of-type {\n",
       "        vertical-align: middle;\n",
       "    }\n",
       "\n",
       "    .dataframe tbody tr th {\n",
       "        vertical-align: top;\n",
       "    }\n",
       "\n",
       "    .dataframe thead th {\n",
       "        text-align: right;\n",
       "    }\n",
       "</style>\n",
       "<table border=\"1\" class=\"dataframe\">\n",
       "  <thead>\n",
       "    <tr style=\"text-align: right;\">\n",
       "      <th></th>\n",
       "      <th>ishares</th>\n",
       "    </tr>\n",
       "    <tr>\n",
       "      <th>Date</th>\n",
       "      <th></th>\n",
       "    </tr>\n",
       "  </thead>\n",
       "  <tbody>\n",
       "    <tr>\n",
       "      <th>2000-06-01</th>\n",
       "      <td>NaN</td>\n",
       "    </tr>\n",
       "    <tr>\n",
       "      <th>2000-07-01</th>\n",
       "      <td>-0.027792</td>\n",
       "    </tr>\n",
       "    <tr>\n",
       "      <th>2000-08-01</th>\n",
       "      <td>0.093129</td>\n",
       "    </tr>\n",
       "    <tr>\n",
       "      <th>2000-09-01</th>\n",
       "      <td>-0.028910</td>\n",
       "    </tr>\n",
       "    <tr>\n",
       "      <th>2000-10-01</th>\n",
       "      <td>0.006109</td>\n",
       "    </tr>\n",
       "    <tr>\n",
       "      <th>...</th>\n",
       "      <td>...</td>\n",
       "    </tr>\n",
       "    <tr>\n",
       "      <th>2021-11-01</th>\n",
       "      <td>-0.024323</td>\n",
       "    </tr>\n",
       "    <tr>\n",
       "      <th>2021-12-01</th>\n",
       "      <td>0.038075</td>\n",
       "    </tr>\n",
       "    <tr>\n",
       "      <th>2022-01-01</th>\n",
       "      <td>-0.066078</td>\n",
       "    </tr>\n",
       "    <tr>\n",
       "      <th>2022-02-01</th>\n",
       "      <td>0.001318</td>\n",
       "    </tr>\n",
       "    <tr>\n",
       "      <th>2022-02-14</th>\n",
       "      <td>-0.002068</td>\n",
       "    </tr>\n",
       "  </tbody>\n",
       "</table>\n",
       "<p>262 rows × 1 columns</p>\n",
       "</div>"
      ],
      "text/plain": [
       "             ishares\n",
       "Date                \n",
       "2000-06-01       NaN\n",
       "2000-07-01 -0.027792\n",
       "2000-08-01  0.093129\n",
       "2000-09-01 -0.028910\n",
       "2000-10-01  0.006109\n",
       "...              ...\n",
       "2021-11-01 -0.024323\n",
       "2021-12-01  0.038075\n",
       "2022-01-01 -0.066078\n",
       "2022-02-01  0.001318\n",
       "2022-02-14 -0.002068\n",
       "\n",
       "[262 rows x 1 columns]"
      ]
     },
     "execution_count": 7,
     "metadata": {},
     "output_type": "execute_result"
    }
   ],
   "source": [
    "ret_ishares=ishares.pct_change()\n",
    "ret_ishares"
   ]
  },
  {
   "cell_type": "code",
   "execution_count": null,
   "metadata": {},
   "outputs": [],
   "source": []
  },
  {
   "cell_type": "code",
   "execution_count": null,
   "metadata": {},
   "outputs": [],
   "source": []
  },
  {
   "cell_type": "markdown",
   "metadata": {},
   "source": [
    "# .........................................................................................................................."
   ]
  },
  {
   "cell_type": "code",
   "execution_count": null,
   "metadata": {},
   "outputs": [],
   "source": []
  },
  {
   "cell_type": "code",
   "execution_count": 8,
   "metadata": {},
   "outputs": [
    {
     "data": {
      "text/html": [
       "<div>\n",
       "<style scoped>\n",
       "    .dataframe tbody tr th:only-of-type {\n",
       "        vertical-align: middle;\n",
       "    }\n",
       "\n",
       "    .dataframe tbody tr th {\n",
       "        vertical-align: top;\n",
       "    }\n",
       "\n",
       "    .dataframe thead th {\n",
       "        text-align: right;\n",
       "    }\n",
       "</style>\n",
       "<table border=\"1\" class=\"dataframe\">\n",
       "  <thead>\n",
       "    <tr style=\"text-align: right;\">\n",
       "      <th></th>\n",
       "      <th>Open</th>\n",
       "      <th>High</th>\n",
       "      <th>Low</th>\n",
       "      <th>Close</th>\n",
       "      <th>Adj Close</th>\n",
       "      <th>Volume</th>\n",
       "    </tr>\n",
       "    <tr>\n",
       "      <th>Date</th>\n",
       "      <th></th>\n",
       "      <th></th>\n",
       "      <th></th>\n",
       "      <th></th>\n",
       "      <th></th>\n",
       "      <th></th>\n",
       "    </tr>\n",
       "  </thead>\n",
       "  <tbody>\n",
       "    <tr>\n",
       "      <th>1992-04-01</th>\n",
       "      <td>9.30</td>\n",
       "      <td>9.60</td>\n",
       "      <td>9.14</td>\n",
       "      <td>9.30</td>\n",
       "      <td>2.332475</td>\n",
       "      <td>0</td>\n",
       "    </tr>\n",
       "    <tr>\n",
       "      <th>1992-05-01</th>\n",
       "      <td>9.30</td>\n",
       "      <td>9.42</td>\n",
       "      <td>9.20</td>\n",
       "      <td>9.28</td>\n",
       "      <td>2.327460</td>\n",
       "      <td>0</td>\n",
       "    </tr>\n",
       "    <tr>\n",
       "      <th>1992-06-01</th>\n",
       "      <td>9.32</td>\n",
       "      <td>9.37</td>\n",
       "      <td>8.56</td>\n",
       "      <td>8.83</td>\n",
       "      <td>2.214598</td>\n",
       "      <td>0</td>\n",
       "    </tr>\n",
       "    <tr>\n",
       "      <th>1992-07-01</th>\n",
       "      <td>8.66</td>\n",
       "      <td>9.22</td>\n",
       "      <td>8.59</td>\n",
       "      <td>9.22</td>\n",
       "      <td>2.312412</td>\n",
       "      <td>0</td>\n",
       "    </tr>\n",
       "    <tr>\n",
       "      <th>1992-08-01</th>\n",
       "      <td>9.09</td>\n",
       "      <td>9.09</td>\n",
       "      <td>8.74</td>\n",
       "      <td>9.03</td>\n",
       "      <td>2.264758</td>\n",
       "      <td>0</td>\n",
       "    </tr>\n",
       "  </tbody>\n",
       "</table>\n",
       "</div>"
      ],
      "text/plain": [
       "            Open  High   Low  Close  Adj Close  Volume\n",
       "Date                                                  \n",
       "1992-04-01  9.30  9.60  9.14   9.30   2.332475       0\n",
       "1992-05-01  9.30  9.42  9.20   9.28   2.327460       0\n",
       "1992-06-01  9.32  9.37  8.56   8.83   2.214598       0\n",
       "1992-07-01  8.66  9.22  8.59   9.22   2.312412       0\n",
       "1992-08-01  9.09  9.09  8.74   9.03   2.264758       0"
      ]
     },
     "execution_count": 8,
     "metadata": {},
     "output_type": "execute_result"
    }
   ],
   "source": [
    "dfa=pd.read_csv(\"DFSTX.csv\", index_col=0, header=0, parse_dates=True)\n",
    "dfa.head()"
   ]
  },
  {
   "cell_type": "code",
   "execution_count": 9,
   "metadata": {},
   "outputs": [
    {
     "data": {
      "text/plain": [
       "Date\n",
       "1992-04-01    2.332475\n",
       "1992-05-01    2.327460\n",
       "1992-06-01    2.214598\n",
       "1992-07-01    2.312412\n",
       "1992-08-01    2.264758\n",
       "Name: Adj Close, dtype: float64"
      ]
     },
     "execution_count": 9,
     "metadata": {},
     "output_type": "execute_result"
    }
   ],
   "source": [
    "dfa=dfa[\"Adj Close\"]\n",
    "dfa.head()"
   ]
  },
  {
   "cell_type": "code",
   "execution_count": 10,
   "metadata": {},
   "outputs": [
    {
     "data": {
      "text/html": [
       "<div>\n",
       "<style scoped>\n",
       "    .dataframe tbody tr th:only-of-type {\n",
       "        vertical-align: middle;\n",
       "    }\n",
       "\n",
       "    .dataframe tbody tr th {\n",
       "        vertical-align: top;\n",
       "    }\n",
       "\n",
       "    .dataframe thead th {\n",
       "        text-align: right;\n",
       "    }\n",
       "</style>\n",
       "<table border=\"1\" class=\"dataframe\">\n",
       "  <thead>\n",
       "    <tr style=\"text-align: right;\">\n",
       "      <th></th>\n",
       "      <th>Adj Close</th>\n",
       "    </tr>\n",
       "    <tr>\n",
       "      <th>Date</th>\n",
       "      <th></th>\n",
       "    </tr>\n",
       "  </thead>\n",
       "  <tbody>\n",
       "    <tr>\n",
       "      <th>1992-04-01</th>\n",
       "      <td>2.332475</td>\n",
       "    </tr>\n",
       "    <tr>\n",
       "      <th>1992-05-01</th>\n",
       "      <td>2.327460</td>\n",
       "    </tr>\n",
       "    <tr>\n",
       "      <th>1992-06-01</th>\n",
       "      <td>2.214598</td>\n",
       "    </tr>\n",
       "    <tr>\n",
       "      <th>1992-07-01</th>\n",
       "      <td>2.312412</td>\n",
       "    </tr>\n",
       "    <tr>\n",
       "      <th>1992-08-01</th>\n",
       "      <td>2.264758</td>\n",
       "    </tr>\n",
       "  </tbody>\n",
       "</table>\n",
       "</div>"
      ],
      "text/plain": [
       "            Adj Close\n",
       "Date                 \n",
       "1992-04-01   2.332475\n",
       "1992-05-01   2.327460\n",
       "1992-06-01   2.214598\n",
       "1992-07-01   2.312412\n",
       "1992-08-01   2.264758"
      ]
     },
     "execution_count": 10,
     "metadata": {},
     "output_type": "execute_result"
    }
   ],
   "source": [
    "dfa=dfa.to_frame()\n",
    "dfa.head()"
   ]
  },
  {
   "cell_type": "code",
   "execution_count": 11,
   "metadata": {},
   "outputs": [],
   "source": [
    "dfa.columns=[\"dfa\"]"
   ]
  },
  {
   "cell_type": "code",
   "execution_count": 12,
   "metadata": {},
   "outputs": [
    {
     "data": {
      "text/html": [
       "<div>\n",
       "<style scoped>\n",
       "    .dataframe tbody tr th:only-of-type {\n",
       "        vertical-align: middle;\n",
       "    }\n",
       "\n",
       "    .dataframe tbody tr th {\n",
       "        vertical-align: top;\n",
       "    }\n",
       "\n",
       "    .dataframe thead th {\n",
       "        text-align: right;\n",
       "    }\n",
       "</style>\n",
       "<table border=\"1\" class=\"dataframe\">\n",
       "  <thead>\n",
       "    <tr style=\"text-align: right;\">\n",
       "      <th></th>\n",
       "      <th>dfa</th>\n",
       "    </tr>\n",
       "    <tr>\n",
       "      <th>Date</th>\n",
       "      <th></th>\n",
       "    </tr>\n",
       "  </thead>\n",
       "  <tbody>\n",
       "    <tr>\n",
       "      <th>1992-04-01</th>\n",
       "      <td>NaN</td>\n",
       "    </tr>\n",
       "    <tr>\n",
       "      <th>1992-05-01</th>\n",
       "      <td>-0.002150</td>\n",
       "    </tr>\n",
       "    <tr>\n",
       "      <th>1992-06-01</th>\n",
       "      <td>-0.048491</td>\n",
       "    </tr>\n",
       "    <tr>\n",
       "      <th>1992-07-01</th>\n",
       "      <td>0.044168</td>\n",
       "    </tr>\n",
       "    <tr>\n",
       "      <th>1992-08-01</th>\n",
       "      <td>-0.020608</td>\n",
       "    </tr>\n",
       "  </tbody>\n",
       "</table>\n",
       "</div>"
      ],
      "text/plain": [
       "                 dfa\n",
       "Date                \n",
       "1992-04-01       NaN\n",
       "1992-05-01 -0.002150\n",
       "1992-06-01 -0.048491\n",
       "1992-07-01  0.044168\n",
       "1992-08-01 -0.020608"
      ]
     },
     "execution_count": 12,
     "metadata": {},
     "output_type": "execute_result"
    }
   ],
   "source": [
    "ret_dfa=dfa.pct_change()\n",
    "ret_dfa.head()"
   ]
  },
  {
   "cell_type": "code",
   "execution_count": null,
   "metadata": {},
   "outputs": [],
   "source": []
  },
  {
   "cell_type": "markdown",
   "metadata": {},
   "source": [
    "# .........................................................................................................................."
   ]
  },
  {
   "cell_type": "code",
   "execution_count": 13,
   "metadata": {},
   "outputs": [
    {
     "data": {
      "text/html": [
       "<div>\n",
       "<style scoped>\n",
       "    .dataframe tbody tr th:only-of-type {\n",
       "        vertical-align: middle;\n",
       "    }\n",
       "\n",
       "    .dataframe tbody tr th {\n",
       "        vertical-align: top;\n",
       "    }\n",
       "\n",
       "    .dataframe thead th {\n",
       "        text-align: right;\n",
       "    }\n",
       "</style>\n",
       "<table border=\"1\" class=\"dataframe\">\n",
       "  <thead>\n",
       "    <tr style=\"text-align: right;\">\n",
       "      <th></th>\n",
       "      <th>Open</th>\n",
       "      <th>High</th>\n",
       "      <th>Low</th>\n",
       "      <th>Close</th>\n",
       "      <th>Adj Close</th>\n",
       "      <th>Volume</th>\n",
       "    </tr>\n",
       "    <tr>\n",
       "      <th>Date</th>\n",
       "      <th></th>\n",
       "      <th></th>\n",
       "      <th></th>\n",
       "      <th></th>\n",
       "      <th></th>\n",
       "      <th></th>\n",
       "    </tr>\n",
       "  </thead>\n",
       "  <tbody>\n",
       "    <tr>\n",
       "      <th>1997-08-01</th>\n",
       "      <td>5.02</td>\n",
       "      <td>5.23</td>\n",
       "      <td>5.02</td>\n",
       "      <td>5.22</td>\n",
       "      <td>1.210233</td>\n",
       "      <td>0</td>\n",
       "    </tr>\n",
       "    <tr>\n",
       "      <th>1997-09-01</th>\n",
       "      <td>5.29</td>\n",
       "      <td>5.64</td>\n",
       "      <td>5.29</td>\n",
       "      <td>5.64</td>\n",
       "      <td>1.307609</td>\n",
       "      <td>0</td>\n",
       "    </tr>\n",
       "    <tr>\n",
       "      <th>1997-10-01</th>\n",
       "      <td>5.65</td>\n",
       "      <td>5.81</td>\n",
       "      <td>5.22</td>\n",
       "      <td>5.46</td>\n",
       "      <td>1.265877</td>\n",
       "      <td>0</td>\n",
       "    </tr>\n",
       "    <tr>\n",
       "      <th>1997-11-01</th>\n",
       "      <td>5.53</td>\n",
       "      <td>5.65</td>\n",
       "      <td>5.25</td>\n",
       "      <td>5.31</td>\n",
       "      <td>1.231100</td>\n",
       "      <td>0</td>\n",
       "    </tr>\n",
       "    <tr>\n",
       "      <th>1997-12-01</th>\n",
       "      <td>5.33</td>\n",
       "      <td>5.33</td>\n",
       "      <td>4.84</td>\n",
       "      <td>4.98</td>\n",
       "      <td>1.154591</td>\n",
       "      <td>0</td>\n",
       "    </tr>\n",
       "  </tbody>\n",
       "</table>\n",
       "</div>"
      ],
      "text/plain": [
       "            Open  High   Low  Close  Adj Close  Volume\n",
       "Date                                                  \n",
       "1997-08-01  5.02  5.23  5.02   5.22   1.210233       0\n",
       "1997-09-01  5.29  5.64  5.29   5.64   1.307609       0\n",
       "1997-10-01  5.65  5.81  5.22   5.46   1.265877       0\n",
       "1997-11-01  5.53  5.65  5.25   5.31   1.231100       0\n",
       "1997-12-01  5.33  5.33  4.84   4.98   1.154591       0"
      ]
     },
     "execution_count": 13,
     "metadata": {},
     "output_type": "execute_result"
    }
   ],
   "source": [
    "bridge=pd.read_csv(\"BRSIX.csv\", index_col=0, header=0, parse_dates=True)\n",
    "bridge.head()"
   ]
  },
  {
   "cell_type": "code",
   "execution_count": 14,
   "metadata": {},
   "outputs": [
    {
     "data": {
      "text/plain": [
       "Date\n",
       "1997-08-01    1.210233\n",
       "1997-09-01    1.307609\n",
       "1997-10-01    1.265877\n",
       "1997-11-01    1.231100\n",
       "1997-12-01    1.154591\n",
       "Name: Adj Close, dtype: float64"
      ]
     },
     "execution_count": 14,
     "metadata": {},
     "output_type": "execute_result"
    }
   ],
   "source": [
    "bridge=bridge[\"Adj Close\"]\n",
    "bridge.head()"
   ]
  },
  {
   "cell_type": "code",
   "execution_count": 15,
   "metadata": {},
   "outputs": [
    {
     "data": {
      "text/html": [
       "<div>\n",
       "<style scoped>\n",
       "    .dataframe tbody tr th:only-of-type {\n",
       "        vertical-align: middle;\n",
       "    }\n",
       "\n",
       "    .dataframe tbody tr th {\n",
       "        vertical-align: top;\n",
       "    }\n",
       "\n",
       "    .dataframe thead th {\n",
       "        text-align: right;\n",
       "    }\n",
       "</style>\n",
       "<table border=\"1\" class=\"dataframe\">\n",
       "  <thead>\n",
       "    <tr style=\"text-align: right;\">\n",
       "      <th></th>\n",
       "      <th>Adj Close</th>\n",
       "    </tr>\n",
       "    <tr>\n",
       "      <th>Date</th>\n",
       "      <th></th>\n",
       "    </tr>\n",
       "  </thead>\n",
       "  <tbody>\n",
       "    <tr>\n",
       "      <th>1997-08-01</th>\n",
       "      <td>1.210233</td>\n",
       "    </tr>\n",
       "    <tr>\n",
       "      <th>1997-09-01</th>\n",
       "      <td>1.307609</td>\n",
       "    </tr>\n",
       "    <tr>\n",
       "      <th>1997-10-01</th>\n",
       "      <td>1.265877</td>\n",
       "    </tr>\n",
       "    <tr>\n",
       "      <th>1997-11-01</th>\n",
       "      <td>1.231100</td>\n",
       "    </tr>\n",
       "    <tr>\n",
       "      <th>1997-12-01</th>\n",
       "      <td>1.154591</td>\n",
       "    </tr>\n",
       "  </tbody>\n",
       "</table>\n",
       "</div>"
      ],
      "text/plain": [
       "            Adj Close\n",
       "Date                 \n",
       "1997-08-01   1.210233\n",
       "1997-09-01   1.307609\n",
       "1997-10-01   1.265877\n",
       "1997-11-01   1.231100\n",
       "1997-12-01   1.154591"
      ]
     },
     "execution_count": 15,
     "metadata": {},
     "output_type": "execute_result"
    }
   ],
   "source": [
    "bridge=bridge.to_frame()\n",
    "bridge.head()"
   ]
  },
  {
   "cell_type": "code",
   "execution_count": 16,
   "metadata": {},
   "outputs": [],
   "source": [
    "bridge.columns=[\"bridge\"]"
   ]
  },
  {
   "cell_type": "code",
   "execution_count": 17,
   "metadata": {},
   "outputs": [
    {
     "data": {
      "text/html": [
       "<div>\n",
       "<style scoped>\n",
       "    .dataframe tbody tr th:only-of-type {\n",
       "        vertical-align: middle;\n",
       "    }\n",
       "\n",
       "    .dataframe tbody tr th {\n",
       "        vertical-align: top;\n",
       "    }\n",
       "\n",
       "    .dataframe thead th {\n",
       "        text-align: right;\n",
       "    }\n",
       "</style>\n",
       "<table border=\"1\" class=\"dataframe\">\n",
       "  <thead>\n",
       "    <tr style=\"text-align: right;\">\n",
       "      <th></th>\n",
       "      <th>bridge</th>\n",
       "    </tr>\n",
       "    <tr>\n",
       "      <th>Date</th>\n",
       "      <th></th>\n",
       "    </tr>\n",
       "  </thead>\n",
       "  <tbody>\n",
       "    <tr>\n",
       "      <th>1997-08-01</th>\n",
       "      <td>NaN</td>\n",
       "    </tr>\n",
       "    <tr>\n",
       "      <th>1997-09-01</th>\n",
       "      <td>0.080461</td>\n",
       "    </tr>\n",
       "    <tr>\n",
       "      <th>1997-10-01</th>\n",
       "      <td>-0.031915</td>\n",
       "    </tr>\n",
       "    <tr>\n",
       "      <th>1997-11-01</th>\n",
       "      <td>-0.027473</td>\n",
       "    </tr>\n",
       "    <tr>\n",
       "      <th>1997-12-01</th>\n",
       "      <td>-0.062147</td>\n",
       "    </tr>\n",
       "  </tbody>\n",
       "</table>\n",
       "</div>"
      ],
      "text/plain": [
       "              bridge\n",
       "Date                \n",
       "1997-08-01       NaN\n",
       "1997-09-01  0.080461\n",
       "1997-10-01 -0.031915\n",
       "1997-11-01 -0.027473\n",
       "1997-12-01 -0.062147"
      ]
     },
     "execution_count": 17,
     "metadata": {},
     "output_type": "execute_result"
    }
   ],
   "source": [
    "ret_bridge=bridge.pct_change()\n",
    "ret_bridge.head()"
   ]
  },
  {
   "cell_type": "code",
   "execution_count": null,
   "metadata": {},
   "outputs": [],
   "source": []
  },
  {
   "cell_type": "markdown",
   "metadata": {},
   "source": [
    "# .........................................................................................................................."
   ]
  },
  {
   "cell_type": "code",
   "execution_count": null,
   "metadata": {},
   "outputs": [],
   "source": []
  },
  {
   "cell_type": "code",
   "execution_count": 18,
   "metadata": {},
   "outputs": [
    {
     "data": {
      "text/html": [
       "<div>\n",
       "<style scoped>\n",
       "    .dataframe tbody tr th:only-of-type {\n",
       "        vertical-align: middle;\n",
       "    }\n",
       "\n",
       "    .dataframe tbody tr th {\n",
       "        vertical-align: top;\n",
       "    }\n",
       "\n",
       "    .dataframe thead th {\n",
       "        text-align: right;\n",
       "    }\n",
       "</style>\n",
       "<table border=\"1\" class=\"dataframe\">\n",
       "  <thead>\n",
       "    <tr style=\"text-align: right;\">\n",
       "      <th></th>\n",
       "      <th>Open</th>\n",
       "      <th>High</th>\n",
       "      <th>Low</th>\n",
       "      <th>Close</th>\n",
       "      <th>Adj Close</th>\n",
       "      <th>Volume</th>\n",
       "    </tr>\n",
       "    <tr>\n",
       "      <th>Date</th>\n",
       "      <th></th>\n",
       "      <th></th>\n",
       "      <th></th>\n",
       "      <th></th>\n",
       "      <th></th>\n",
       "      <th></th>\n",
       "    </tr>\n",
       "  </thead>\n",
       "  <tbody>\n",
       "    <tr>\n",
       "      <th>2000-12-01</th>\n",
       "      <td>21.49</td>\n",
       "      <td>22.920000</td>\n",
       "      <td>17.830000</td>\n",
       "      <td>19.440001</td>\n",
       "      <td>14.956081</td>\n",
       "      <td>0</td>\n",
       "    </tr>\n",
       "    <tr>\n",
       "      <th>2001-01-01</th>\n",
       "      <td>18.59</td>\n",
       "      <td>20.590000</td>\n",
       "      <td>18.570000</td>\n",
       "      <td>20.459999</td>\n",
       "      <td>15.740818</td>\n",
       "      <td>0</td>\n",
       "    </tr>\n",
       "    <tr>\n",
       "      <th>2001-02-01</th>\n",
       "      <td>20.49</td>\n",
       "      <td>20.500000</td>\n",
       "      <td>19.120001</td>\n",
       "      <td>19.120001</td>\n",
       "      <td>14.709894</td>\n",
       "      <td>0</td>\n",
       "    </tr>\n",
       "    <tr>\n",
       "      <th>2001-03-01</th>\n",
       "      <td>19.07</td>\n",
       "      <td>19.540001</td>\n",
       "      <td>17.450001</td>\n",
       "      <td>18.180000</td>\n",
       "      <td>13.986712</td>\n",
       "      <td>0</td>\n",
       "    </tr>\n",
       "    <tr>\n",
       "      <th>2001-04-01</th>\n",
       "      <td>17.75</td>\n",
       "      <td>19.590000</td>\n",
       "      <td>17.190001</td>\n",
       "      <td>19.590000</td>\n",
       "      <td>15.071485</td>\n",
       "      <td>0</td>\n",
       "    </tr>\n",
       "  </tbody>\n",
       "</table>\n",
       "</div>"
      ],
      "text/plain": [
       "             Open       High        Low      Close  Adj Close  Volume\n",
       "Date                                                                 \n",
       "2000-12-01  21.49  22.920000  17.830000  19.440001  14.956081       0\n",
       "2001-01-01  18.59  20.590000  18.570000  20.459999  15.740818       0\n",
       "2001-02-01  20.49  20.500000  19.120001  19.120001  14.709894       0\n",
       "2001-03-01  19.07  19.540001  17.450001  18.180000  13.986712       0\n",
       "2001-04-01  17.75  19.590000  17.190001  19.590000  15.071485       0"
      ]
     },
     "execution_count": 18,
     "metadata": {},
     "output_type": "execute_result"
    }
   ],
   "source": [
    "vanguard=pd.read_csv(\"VSMAX.csv\", index_col=0, header=0, parse_dates=True)\n",
    "vanguard.head()"
   ]
  },
  {
   "cell_type": "code",
   "execution_count": 19,
   "metadata": {},
   "outputs": [
    {
     "data": {
      "text/plain": [
       "Date\n",
       "2000-12-01    14.956081\n",
       "2001-01-01    15.740818\n",
       "2001-02-01    14.709894\n",
       "2001-03-01    13.986712\n",
       "2001-04-01    15.071485\n",
       "Name: Adj Close, dtype: float64"
      ]
     },
     "execution_count": 19,
     "metadata": {},
     "output_type": "execute_result"
    }
   ],
   "source": [
    "vanguard=vanguard[\"Adj Close\"]\n",
    "vanguard.head()"
   ]
  },
  {
   "cell_type": "code",
   "execution_count": 20,
   "metadata": {},
   "outputs": [
    {
     "data": {
      "text/html": [
       "<div>\n",
       "<style scoped>\n",
       "    .dataframe tbody tr th:only-of-type {\n",
       "        vertical-align: middle;\n",
       "    }\n",
       "\n",
       "    .dataframe tbody tr th {\n",
       "        vertical-align: top;\n",
       "    }\n",
       "\n",
       "    .dataframe thead th {\n",
       "        text-align: right;\n",
       "    }\n",
       "</style>\n",
       "<table border=\"1\" class=\"dataframe\">\n",
       "  <thead>\n",
       "    <tr style=\"text-align: right;\">\n",
       "      <th></th>\n",
       "      <th>Adj Close</th>\n",
       "    </tr>\n",
       "    <tr>\n",
       "      <th>Date</th>\n",
       "      <th></th>\n",
       "    </tr>\n",
       "  </thead>\n",
       "  <tbody>\n",
       "    <tr>\n",
       "      <th>2000-12-01</th>\n",
       "      <td>14.956081</td>\n",
       "    </tr>\n",
       "    <tr>\n",
       "      <th>2001-01-01</th>\n",
       "      <td>15.740818</td>\n",
       "    </tr>\n",
       "    <tr>\n",
       "      <th>2001-02-01</th>\n",
       "      <td>14.709894</td>\n",
       "    </tr>\n",
       "    <tr>\n",
       "      <th>2001-03-01</th>\n",
       "      <td>13.986712</td>\n",
       "    </tr>\n",
       "    <tr>\n",
       "      <th>2001-04-01</th>\n",
       "      <td>15.071485</td>\n",
       "    </tr>\n",
       "  </tbody>\n",
       "</table>\n",
       "</div>"
      ],
      "text/plain": [
       "            Adj Close\n",
       "Date                 \n",
       "2000-12-01  14.956081\n",
       "2001-01-01  15.740818\n",
       "2001-02-01  14.709894\n",
       "2001-03-01  13.986712\n",
       "2001-04-01  15.071485"
      ]
     },
     "execution_count": 20,
     "metadata": {},
     "output_type": "execute_result"
    }
   ],
   "source": [
    "vanguard=vanguard.to_frame()\n",
    "vanguard.head()"
   ]
  },
  {
   "cell_type": "code",
   "execution_count": 21,
   "metadata": {},
   "outputs": [],
   "source": [
    "vanguard.columns=[\"van\"]"
   ]
  },
  {
   "cell_type": "code",
   "execution_count": 22,
   "metadata": {},
   "outputs": [
    {
     "data": {
      "text/html": [
       "<div>\n",
       "<style scoped>\n",
       "    .dataframe tbody tr th:only-of-type {\n",
       "        vertical-align: middle;\n",
       "    }\n",
       "\n",
       "    .dataframe tbody tr th {\n",
       "        vertical-align: top;\n",
       "    }\n",
       "\n",
       "    .dataframe thead th {\n",
       "        text-align: right;\n",
       "    }\n",
       "</style>\n",
       "<table border=\"1\" class=\"dataframe\">\n",
       "  <thead>\n",
       "    <tr style=\"text-align: right;\">\n",
       "      <th></th>\n",
       "      <th>van</th>\n",
       "    </tr>\n",
       "    <tr>\n",
       "      <th>Date</th>\n",
       "      <th></th>\n",
       "    </tr>\n",
       "  </thead>\n",
       "  <tbody>\n",
       "    <tr>\n",
       "      <th>2000-12-01</th>\n",
       "      <td>NaN</td>\n",
       "    </tr>\n",
       "    <tr>\n",
       "      <th>2001-01-01</th>\n",
       "      <td>0.052469</td>\n",
       "    </tr>\n",
       "    <tr>\n",
       "      <th>2001-02-01</th>\n",
       "      <td>-0.065494</td>\n",
       "    </tr>\n",
       "    <tr>\n",
       "      <th>2001-03-01</th>\n",
       "      <td>-0.049163</td>\n",
       "    </tr>\n",
       "    <tr>\n",
       "      <th>2001-04-01</th>\n",
       "      <td>0.077557</td>\n",
       "    </tr>\n",
       "  </tbody>\n",
       "</table>\n",
       "</div>"
      ],
      "text/plain": [
       "                 van\n",
       "Date                \n",
       "2000-12-01       NaN\n",
       "2001-01-01  0.052469\n",
       "2001-02-01 -0.065494\n",
       "2001-03-01 -0.049163\n",
       "2001-04-01  0.077557"
      ]
     },
     "execution_count": 22,
     "metadata": {},
     "output_type": "execute_result"
    }
   ],
   "source": [
    "ret_van=vanguard.pct_change()\n",
    "ret_van.head()"
   ]
  },
  {
   "cell_type": "code",
   "execution_count": null,
   "metadata": {},
   "outputs": [],
   "source": []
  },
  {
   "cell_type": "markdown",
   "metadata": {},
   "source": [
    "# .........................................................................................................................."
   ]
  },
  {
   "cell_type": "code",
   "execution_count": null,
   "metadata": {},
   "outputs": [],
   "source": []
  },
  {
   "cell_type": "code",
   "execution_count": 23,
   "metadata": {},
   "outputs": [
    {
     "data": {
      "text/plain": [
       "252"
      ]
     },
     "execution_count": 23,
     "metadata": {},
     "output_type": "execute_result"
    }
   ],
   "source": [
    "ret_van=ret_van[\"2001\":\"2021\"]\n",
    "ret_van.shape[0]"
   ]
  },
  {
   "cell_type": "code",
   "execution_count": 24,
   "metadata": {},
   "outputs": [
    {
     "data": {
      "text/plain": [
       "252"
      ]
     },
     "execution_count": 24,
     "metadata": {},
     "output_type": "execute_result"
    }
   ],
   "source": [
    "ret_ishares=ret_ishares[\"2001\":\"2021\"]\n",
    "ret_ishares.shape[0]"
   ]
  },
  {
   "cell_type": "code",
   "execution_count": null,
   "metadata": {},
   "outputs": [],
   "source": []
  },
  {
   "cell_type": "code",
   "execution_count": 25,
   "metadata": {},
   "outputs": [
    {
     "data": {
      "text/plain": [
       "252"
      ]
     },
     "execution_count": 25,
     "metadata": {},
     "output_type": "execute_result"
    }
   ],
   "source": [
    "ret_dfa=ret_dfa[\"2001\":\"2021\"]\n",
    "ret_dfa.shape[0]"
   ]
  },
  {
   "cell_type": "code",
   "execution_count": 26,
   "metadata": {},
   "outputs": [
    {
     "data": {
      "text/plain": [
       "252"
      ]
     },
     "execution_count": 26,
     "metadata": {},
     "output_type": "execute_result"
    }
   ],
   "source": [
    "ret_bridge=ret_bridge[\"2001\":\"2021\"]\n",
    "ret_bridge.shape[0]"
   ]
  },
  {
   "cell_type": "markdown",
   "metadata": {},
   "source": [
    "# .........................................................................................................................."
   ]
  },
  {
   "cell_type": "markdown",
   "metadata": {},
   "source": [
    "#### Merging all the dfs in one single df"
   ]
  },
  {
   "cell_type": "code",
   "execution_count": 27,
   "metadata": {},
   "outputs": [],
   "source": [
    "final_df=pd.merge(pd.merge(pd.merge(ret_van, ret_ishares, on =\"Date\"), ret_dfa, on=\"Date\"), ret_bridge, on =\"Date\")"
   ]
  },
  {
   "cell_type": "code",
   "execution_count": 28,
   "metadata": {},
   "outputs": [
    {
     "data": {
      "text/html": [
       "<div>\n",
       "<style scoped>\n",
       "    .dataframe tbody tr th:only-of-type {\n",
       "        vertical-align: middle;\n",
       "    }\n",
       "\n",
       "    .dataframe tbody tr th {\n",
       "        vertical-align: top;\n",
       "    }\n",
       "\n",
       "    .dataframe thead th {\n",
       "        text-align: right;\n",
       "    }\n",
       "</style>\n",
       "<table border=\"1\" class=\"dataframe\">\n",
       "  <thead>\n",
       "    <tr style=\"text-align: right;\">\n",
       "      <th></th>\n",
       "      <th>van</th>\n",
       "      <th>ishares</th>\n",
       "      <th>dfa</th>\n",
       "      <th>bridge</th>\n",
       "    </tr>\n",
       "    <tr>\n",
       "      <th>Date</th>\n",
       "      <th></th>\n",
       "      <th></th>\n",
       "      <th></th>\n",
       "      <th></th>\n",
       "    </tr>\n",
       "  </thead>\n",
       "  <tbody>\n",
       "    <tr>\n",
       "      <th>2001-01-01</th>\n",
       "      <td>0.052469</td>\n",
       "      <td>0.059544</td>\n",
       "      <td>0.212430</td>\n",
       "      <td>0.144440</td>\n",
       "    </tr>\n",
       "    <tr>\n",
       "      <th>2001-02-01</th>\n",
       "      <td>-0.065494</td>\n",
       "      <td>-0.059437</td>\n",
       "      <td>-0.066667</td>\n",
       "      <td>-0.058823</td>\n",
       "    </tr>\n",
       "    <tr>\n",
       "      <th>2001-03-01</th>\n",
       "      <td>-0.049163</td>\n",
       "      <td>-0.046948</td>\n",
       "      <td>-0.045454</td>\n",
       "      <td>-0.045058</td>\n",
       "    </tr>\n",
       "    <tr>\n",
       "      <th>2001-04-01</th>\n",
       "      <td>0.077557</td>\n",
       "      <td>0.079735</td>\n",
       "      <td>0.077854</td>\n",
       "      <td>0.039574</td>\n",
       "    </tr>\n",
       "    <tr>\n",
       "      <th>2001-05-01</th>\n",
       "      <td>0.025013</td>\n",
       "      <td>0.020371</td>\n",
       "      <td>0.046985</td>\n",
       "      <td>0.058565</td>\n",
       "    </tr>\n",
       "  </tbody>\n",
       "</table>\n",
       "</div>"
      ],
      "text/plain": [
       "                 van   ishares       dfa    bridge\n",
       "Date                                              \n",
       "2001-01-01  0.052469  0.059544  0.212430  0.144440\n",
       "2001-02-01 -0.065494 -0.059437 -0.066667 -0.058823\n",
       "2001-03-01 -0.049163 -0.046948 -0.045454 -0.045058\n",
       "2001-04-01  0.077557  0.079735  0.077854  0.039574\n",
       "2001-05-01  0.025013  0.020371  0.046985  0.058565"
      ]
     },
     "execution_count": 28,
     "metadata": {},
     "output_type": "execute_result"
    }
   ],
   "source": [
    "final_df.head()"
   ]
  },
  {
   "cell_type": "markdown",
   "metadata": {},
   "source": [
    "# .........................................................................................................................."
   ]
  },
  {
   "cell_type": "markdown",
   "metadata": {},
   "source": [
    "#### Descriptive stats"
   ]
  },
  {
   "cell_type": "code",
   "execution_count": 29,
   "metadata": {},
   "outputs": [
    {
     "data": {
      "text/html": [
       "<div>\n",
       "<style scoped>\n",
       "    .dataframe tbody tr th:only-of-type {\n",
       "        vertical-align: middle;\n",
       "    }\n",
       "\n",
       "    .dataframe tbody tr th {\n",
       "        vertical-align: top;\n",
       "    }\n",
       "\n",
       "    .dataframe thead th {\n",
       "        text-align: right;\n",
       "    }\n",
       "</style>\n",
       "<table border=\"1\" class=\"dataframe\">\n",
       "  <thead>\n",
       "    <tr style=\"text-align: right;\">\n",
       "      <th></th>\n",
       "      <th>van</th>\n",
       "      <th>ishares</th>\n",
       "      <th>dfa</th>\n",
       "      <th>bridge</th>\n",
       "    </tr>\n",
       "  </thead>\n",
       "  <tbody>\n",
       "    <tr>\n",
       "      <th>count</th>\n",
       "      <td>252.000000</td>\n",
       "      <td>252.000000</td>\n",
       "      <td>252.000000</td>\n",
       "      <td>252.000000</td>\n",
       "    </tr>\n",
       "    <tr>\n",
       "      <th>mean</th>\n",
       "      <td>0.009430</td>\n",
       "      <td>0.009883</td>\n",
       "      <td>0.010250</td>\n",
       "      <td>0.010473</td>\n",
       "    </tr>\n",
       "    <tr>\n",
       "      <th>std</th>\n",
       "      <td>0.055431</td>\n",
       "      <td>0.054943</td>\n",
       "      <td>0.061180</td>\n",
       "      <td>0.071882</td>\n",
       "    </tr>\n",
       "    <tr>\n",
       "      <th>min</th>\n",
       "      <td>-0.221205</td>\n",
       "      <td>-0.229152</td>\n",
       "      <td>-0.224058</td>\n",
       "      <td>-0.262687</td>\n",
       "    </tr>\n",
       "    <tr>\n",
       "      <th>25%</th>\n",
       "      <td>-0.017331</td>\n",
       "      <td>-0.021173</td>\n",
       "      <td>-0.023490</td>\n",
       "      <td>-0.025936</td>\n",
       "    </tr>\n",
       "    <tr>\n",
       "      <th>50%</th>\n",
       "      <td>0.013746</td>\n",
       "      <td>0.016040</td>\n",
       "      <td>0.011333</td>\n",
       "      <td>0.012321</td>\n",
       "    </tr>\n",
       "    <tr>\n",
       "      <th>75%</th>\n",
       "      <td>0.043425</td>\n",
       "      <td>0.043299</td>\n",
       "      <td>0.045393</td>\n",
       "      <td>0.048011</td>\n",
       "    </tr>\n",
       "    <tr>\n",
       "      <th>max</th>\n",
       "      <td>0.183724</td>\n",
       "      <td>0.184872</td>\n",
       "      <td>0.212430</td>\n",
       "      <td>0.321030</td>\n",
       "    </tr>\n",
       "  </tbody>\n",
       "</table>\n",
       "</div>"
      ],
      "text/plain": [
       "              van     ishares         dfa      bridge\n",
       "count  252.000000  252.000000  252.000000  252.000000\n",
       "mean     0.009430    0.009883    0.010250    0.010473\n",
       "std      0.055431    0.054943    0.061180    0.071882\n",
       "min     -0.221205   -0.229152   -0.224058   -0.262687\n",
       "25%     -0.017331   -0.021173   -0.023490   -0.025936\n",
       "50%      0.013746    0.016040    0.011333    0.012321\n",
       "75%      0.043425    0.043299    0.045393    0.048011\n",
       "max      0.183724    0.184872    0.212430    0.321030"
      ]
     },
     "execution_count": 29,
     "metadata": {},
     "output_type": "execute_result"
    }
   ],
   "source": [
    "final_df.describe()"
   ]
  },
  {
   "cell_type": "markdown",
   "metadata": {},
   "source": [
    "# .........................................................................................................................."
   ]
  },
  {
   "cell_type": "markdown",
   "metadata": {},
   "source": [
    "#### Lets compute and plot the cumulative total returns"
   ]
  },
  {
   "cell_type": "code",
   "execution_count": 30,
   "metadata": {},
   "outputs": [
    {
     "data": {
      "text/html": [
       "<div>\n",
       "<style scoped>\n",
       "    .dataframe tbody tr th:only-of-type {\n",
       "        vertical-align: middle;\n",
       "    }\n",
       "\n",
       "    .dataframe tbody tr th {\n",
       "        vertical-align: top;\n",
       "    }\n",
       "\n",
       "    .dataframe thead th {\n",
       "        text-align: right;\n",
       "    }\n",
       "</style>\n",
       "<table border=\"1\" class=\"dataframe\">\n",
       "  <thead>\n",
       "    <tr style=\"text-align: right;\">\n",
       "      <th></th>\n",
       "      <th>van</th>\n",
       "      <th>ishares</th>\n",
       "      <th>dfa</th>\n",
       "      <th>bridge</th>\n",
       "    </tr>\n",
       "    <tr>\n",
       "      <th>Date</th>\n",
       "      <th></th>\n",
       "      <th></th>\n",
       "      <th></th>\n",
       "      <th></th>\n",
       "    </tr>\n",
       "  </thead>\n",
       "  <tbody>\n",
       "    <tr>\n",
       "      <th>2001-01-01</th>\n",
       "      <td>0.052469</td>\n",
       "      <td>0.059544</td>\n",
       "      <td>0.212430</td>\n",
       "      <td>0.144440</td>\n",
       "    </tr>\n",
       "    <tr>\n",
       "      <th>2001-02-01</th>\n",
       "      <td>-0.016461</td>\n",
       "      <td>-0.003432</td>\n",
       "      <td>0.131602</td>\n",
       "      <td>0.077121</td>\n",
       "    </tr>\n",
       "    <tr>\n",
       "      <th>2001-03-01</th>\n",
       "      <td>-0.064814</td>\n",
       "      <td>-0.050219</td>\n",
       "      <td>0.080165</td>\n",
       "      <td>0.028587</td>\n",
       "    </tr>\n",
       "    <tr>\n",
       "      <th>2001-04-01</th>\n",
       "      <td>0.007716</td>\n",
       "      <td>0.025512</td>\n",
       "      <td>0.164260</td>\n",
       "      <td>0.069293</td>\n",
       "    </tr>\n",
       "    <tr>\n",
       "      <th>2001-05-01</th>\n",
       "      <td>0.032922</td>\n",
       "      <td>0.046402</td>\n",
       "      <td>0.218962</td>\n",
       "      <td>0.131916</td>\n",
       "    </tr>\n",
       "    <tr>\n",
       "      <th>...</th>\n",
       "      <td>...</td>\n",
       "      <td>...</td>\n",
       "      <td>...</td>\n",
       "      <td>...</td>\n",
       "    </tr>\n",
       "    <tr>\n",
       "      <th>2021-08-01</th>\n",
       "      <td>6.199406</td>\n",
       "      <td>6.944274</td>\n",
       "      <td>7.239979</td>\n",
       "      <td>8.994483</td>\n",
       "    </tr>\n",
       "    <tr>\n",
       "      <th>2021-09-01</th>\n",
       "      <td>5.957192</td>\n",
       "      <td>6.719456</td>\n",
       "      <td>7.037314</td>\n",
       "      <td>8.909515</td>\n",
       "    </tr>\n",
       "    <tr>\n",
       "      <th>2021-10-01</th>\n",
       "      <td>6.318283</td>\n",
       "      <td>7.029311</td>\n",
       "      <td>7.423248</td>\n",
       "      <td>8.819235</td>\n",
       "    </tr>\n",
       "    <tr>\n",
       "      <th>2021-11-01</th>\n",
       "      <td>6.001573</td>\n",
       "      <td>6.834011</td>\n",
       "      <td>7.259993</td>\n",
       "      <td>8.261626</td>\n",
       "    </tr>\n",
       "    <tr>\n",
       "      <th>2021-12-01</th>\n",
       "      <td>6.210495</td>\n",
       "      <td>7.132288</td>\n",
       "      <td>7.171418</td>\n",
       "      <td>6.259543</td>\n",
       "    </tr>\n",
       "  </tbody>\n",
       "</table>\n",
       "<p>252 rows × 4 columns</p>\n",
       "</div>"
      ],
      "text/plain": [
       "                 van   ishares       dfa    bridge\n",
       "Date                                              \n",
       "2001-01-01  0.052469  0.059544  0.212430  0.144440\n",
       "2001-02-01 -0.016461 -0.003432  0.131602  0.077121\n",
       "2001-03-01 -0.064814 -0.050219  0.080165  0.028587\n",
       "2001-04-01  0.007716  0.025512  0.164260  0.069293\n",
       "2001-05-01  0.032922  0.046402  0.218962  0.131916\n",
       "...              ...       ...       ...       ...\n",
       "2021-08-01  6.199406  6.944274  7.239979  8.994483\n",
       "2021-09-01  5.957192  6.719456  7.037314  8.909515\n",
       "2021-10-01  6.318283  7.029311  7.423248  8.819235\n",
       "2021-11-01  6.001573  6.834011  7.259993  8.261626\n",
       "2021-12-01  6.210495  7.132288  7.171418  6.259543\n",
       "\n",
       "[252 rows x 4 columns]"
      ]
     },
     "execution_count": 30,
     "metadata": {},
     "output_type": "execute_result"
    }
   ],
   "source": [
    "cum_ret=1*(1+final_df).cumprod()-1\n",
    "cum_ret"
   ]
  },
  {
   "cell_type": "code",
   "execution_count": 31,
   "metadata": {},
   "outputs": [
    {
     "data": {
      "text/plain": [
       "<matplotlib.axes._subplots.AxesSubplot at 0x20dcd4ac9e8>"
      ]
     },
     "execution_count": 31,
     "metadata": {},
     "output_type": "execute_result"
    },
    {
     "data": {
      "image/png": "[encoded data removed]",
      "text/plain": [
       "<Figure size 864x432 with 1 Axes>"
      ]
     },
     "metadata": {},
     "output_type": "display_data"
    }
   ],
   "source": [
    "cum_ret.plot(figsize=(12,6), title=\"Cumulative returns for the period 2001-2021\", grid=True)"
   ]
  },
  {
   "cell_type": "code",
   "execution_count": null,
   "metadata": {},
   "outputs": [],
   "source": []
  },
  {
   "cell_type": "markdown",
   "metadata": {},
   "source": [
    "# .........................................................................................................................."
   ]
  },
  {
   "cell_type": "code",
   "execution_count": null,
   "metadata": {},
   "outputs": [],
   "source": []
  },
  {
   "cell_type": "markdown",
   "metadata": {},
   "source": [
    "#### Let now import the decile and fama french size portfolios"
   ]
  },
  {
   "cell_type": "code",
   "execution_count": 32,
   "metadata": {},
   "outputs": [
    {
     "data": {
      "text/html": [
       "<div>\n",
       "<style scoped>\n",
       "    .dataframe tbody tr th:only-of-type {\n",
       "        vertical-align: middle;\n",
       "    }\n",
       "\n",
       "    .dataframe tbody tr th {\n",
       "        vertical-align: top;\n",
       "    }\n",
       "\n",
       "    .dataframe thead th {\n",
       "        text-align: right;\n",
       "    }\n",
       "</style>\n",
       "<table border=\"1\" class=\"dataframe\">\n",
       "  <thead>\n",
       "    <tr style=\"text-align: right;\">\n",
       "      <th></th>\n",
       "      <th>&lt;= 0</th>\n",
       "      <th>Lo 30</th>\n",
       "      <th>Med 40</th>\n",
       "      <th>Hi 30</th>\n",
       "      <th>Lo 20</th>\n",
       "      <th>Qnt 2</th>\n",
       "      <th>Qnt 3</th>\n",
       "      <th>Qnt 4</th>\n",
       "      <th>Hi 20</th>\n",
       "      <th>Lo 10</th>\n",
       "      <th>Dec-02</th>\n",
       "      <th>Dec-03</th>\n",
       "      <th>Dec-04</th>\n",
       "      <th>Dec-05</th>\n",
       "      <th>Dec-06</th>\n",
       "      <th>Dec-07</th>\n",
       "      <th>Dec-08</th>\n",
       "      <th>Dec-09</th>\n",
       "      <th>Hi 10</th>\n",
       "    </tr>\n",
       "  </thead>\n",
       "  <tbody>\n",
       "    <tr>\n",
       "      <th>192607</th>\n",
       "      <td>NaN</td>\n",
       "      <td>0.14</td>\n",
       "      <td>1.56</td>\n",
       "      <td>3.41</td>\n",
       "      <td>0.37</td>\n",
       "      <td>0.48</td>\n",
       "      <td>1.76</td>\n",
       "      <td>1.45</td>\n",
       "      <td>3.65</td>\n",
       "      <td>-0.12</td>\n",
       "      <td>0.52</td>\n",
       "      <td>-0.05</td>\n",
       "      <td>0.82</td>\n",
       "      <td>1.42</td>\n",
       "      <td>2.01</td>\n",
       "      <td>1.57</td>\n",
       "      <td>1.38</td>\n",
       "      <td>3.16</td>\n",
       "      <td>3.79</td>\n",
       "    </tr>\n",
       "    <tr>\n",
       "      <th>192608</th>\n",
       "      <td>NaN</td>\n",
       "      <td>3.19</td>\n",
       "      <td>2.74</td>\n",
       "      <td>2.91</td>\n",
       "      <td>2.21</td>\n",
       "      <td>3.58</td>\n",
       "      <td>3.72</td>\n",
       "      <td>1.46</td>\n",
       "      <td>3.07</td>\n",
       "      <td>1.13</td>\n",
       "      <td>2.55</td>\n",
       "      <td>4.00</td>\n",
       "      <td>3.32</td>\n",
       "      <td>2.57</td>\n",
       "      <td>4.56</td>\n",
       "      <td>1.54</td>\n",
       "      <td>1.42</td>\n",
       "      <td>0.86</td>\n",
       "      <td>3.70</td>\n",
       "    </tr>\n",
       "    <tr>\n",
       "      <th>192609</th>\n",
       "      <td>NaN</td>\n",
       "      <td>-1.73</td>\n",
       "      <td>-0.65</td>\n",
       "      <td>0.77</td>\n",
       "      <td>-1.39</td>\n",
       "      <td>-1.25</td>\n",
       "      <td>0.07</td>\n",
       "      <td>-0.15</td>\n",
       "      <td>0.79</td>\n",
       "      <td>0.59</td>\n",
       "      <td>-2.00</td>\n",
       "      <td>-2.01</td>\n",
       "      <td>-0.77</td>\n",
       "      <td>0.00</td>\n",
       "      <td>0.13</td>\n",
       "      <td>-1.39</td>\n",
       "      <td>0.57</td>\n",
       "      <td>-0.90</td>\n",
       "      <td>1.25</td>\n",
       "    </tr>\n",
       "    <tr>\n",
       "      <th>192610</th>\n",
       "      <td>NaN</td>\n",
       "      <td>-2.94</td>\n",
       "      <td>-3.25</td>\n",
       "      <td>-2.79</td>\n",
       "      <td>-2.56</td>\n",
       "      <td>-3.99</td>\n",
       "      <td>-2.71</td>\n",
       "      <td>-3.33</td>\n",
       "      <td>-2.74</td>\n",
       "      <td>-4.29</td>\n",
       "      <td>-2.01</td>\n",
       "      <td>-3.25</td>\n",
       "      <td>-4.45</td>\n",
       "      <td>-3.16</td>\n",
       "      <td>-2.39</td>\n",
       "      <td>-3.44</td>\n",
       "      <td>-3.26</td>\n",
       "      <td>-3.50</td>\n",
       "      <td>-2.54</td>\n",
       "    </tr>\n",
       "    <tr>\n",
       "      <th>192611</th>\n",
       "      <td>NaN</td>\n",
       "      <td>-0.38</td>\n",
       "      <td>3.70</td>\n",
       "      <td>2.75</td>\n",
       "      <td>-0.95</td>\n",
       "      <td>3.03</td>\n",
       "      <td>3.49</td>\n",
       "      <td>3.29</td>\n",
       "      <td>2.70</td>\n",
       "      <td>-3.28</td>\n",
       "      <td>-0.23</td>\n",
       "      <td>0.08</td>\n",
       "      <td>4.90</td>\n",
       "      <td>3.61</td>\n",
       "      <td>3.41</td>\n",
       "      <td>3.55</td>\n",
       "      <td>3.14</td>\n",
       "      <td>3.89</td>\n",
       "      <td>2.39</td>\n",
       "    </tr>\n",
       "  </tbody>\n",
       "</table>\n",
       "</div>"
      ],
      "text/plain": [
       "        <= 0  Lo 30  Med 40  Hi 30  Lo 20  Qnt 2  Qnt 3  Qnt 4  Hi 20  Lo 10  \\\n",
       "192607   NaN   0.14    1.56   3.41   0.37   0.48   1.76   1.45   3.65  -0.12   \n",
       "192608   NaN   3.19    2.74   2.91   2.21   3.58   3.72   1.46   3.07   1.13   \n",
       "192609   NaN  -1.73   -0.65   0.77  -1.39  -1.25   0.07  -0.15   0.79   0.59   \n",
       "192610   NaN  -2.94   -3.25  -2.79  -2.56  -3.99  -2.71  -3.33  -2.74  -4.29   \n",
       "192611   NaN  -0.38    3.70   2.75  -0.95   3.03   3.49   3.29   2.70  -3.28   \n",
       "\n",
       "        Dec-02  Dec-03  Dec-04  Dec-05  Dec-06  Dec-07  Dec-08  Dec-09  Hi 10  \n",
       "192607    0.52   -0.05    0.82    1.42    2.01    1.57    1.38    3.16   3.79  \n",
       "192608    2.55    4.00    3.32    2.57    4.56    1.54    1.42    0.86   3.70  \n",
       "192609   -2.00   -2.01   -0.77    0.00    0.13   -1.39    0.57   -0.90   1.25  \n",
       "192610   -2.01   -3.25   -4.45   -3.16   -2.39   -3.44   -3.26   -3.50  -2.54  \n",
       "192611   -0.23    0.08    4.90    3.61    3.41    3.55    3.14    3.89   2.39  "
      ]
     },
     "execution_count": 32,
     "metadata": {},
     "output_type": "execute_result"
    }
   ],
   "source": [
    "ff_port=pd.read_csv(\"Size decile portfolios.csv\", header=0, na_values=\"-99.99\", parse_dates=True, index_col=0)\n",
    "ff_port.head()"
   ]
  },
  {
   "cell_type": "code",
   "execution_count": 33,
   "metadata": {},
   "outputs": [],
   "source": [
    "#ff_port.dropna(self, axis=0, how=\"any\", inplace=True)"
   ]
  },
  {
   "cell_type": "code",
   "execution_count": 34,
   "metadata": {},
   "outputs": [],
   "source": [
    "#ff_port.set_index(\"Date\", inplace=True)"
   ]
  },
  {
   "cell_type": "markdown",
   "metadata": {},
   "source": [
    "#### We are concerned with Lo30/Hi30, 20/20, 10/10 and 50/50 portfolios\n",
    "\n",
    "#### After the initial inspection of the data, it seems like we already have everything prepared for us except for the 50/50 portfolio. SO, first let create the 50/50 portfolio by simply adding decile 1 to decile 5 which represents low 50 and adding dec 6 to dec 10 which would represent Hi 50.\n"
   ]
  },
  {
   "cell_type": "code",
   "execution_count": 35,
   "metadata": {},
   "outputs": [],
   "source": [
    "sm_lower_half=(ff_port[[\"Lo 10\",\"Dec-02\",\"Dec-03\",\"Dec-04\",\"Dec-05\"]])/100"
   ]
  },
  {
   "cell_type": "code",
   "execution_count": 36,
   "metadata": {},
   "outputs": [
    {
     "data": {
      "text/html": [
       "<div>\n",
       "<style scoped>\n",
       "    .dataframe tbody tr th:only-of-type {\n",
       "        vertical-align: middle;\n",
       "    }\n",
       "\n",
       "    .dataframe tbody tr th {\n",
       "        vertical-align: top;\n",
       "    }\n",
       "\n",
       "    .dataframe thead th {\n",
       "        text-align: right;\n",
       "    }\n",
       "</style>\n",
       "<table border=\"1\" class=\"dataframe\">\n",
       "  <thead>\n",
       "    <tr style=\"text-align: right;\">\n",
       "      <th></th>\n",
       "      <th>Lo 10</th>\n",
       "      <th>Dec-02</th>\n",
       "      <th>Dec-03</th>\n",
       "      <th>Dec-04</th>\n",
       "      <th>Dec-05</th>\n",
       "    </tr>\n",
       "  </thead>\n",
       "  <tbody>\n",
       "    <tr>\n",
       "      <th>192607</th>\n",
       "      <td>-0.0012</td>\n",
       "      <td>0.0052</td>\n",
       "      <td>-0.0005</td>\n",
       "      <td>0.0082</td>\n",
       "      <td>0.0142</td>\n",
       "    </tr>\n",
       "    <tr>\n",
       "      <th>192608</th>\n",
       "      <td>0.0113</td>\n",
       "      <td>0.0255</td>\n",
       "      <td>0.0400</td>\n",
       "      <td>0.0332</td>\n",
       "      <td>0.0257</td>\n",
       "    </tr>\n",
       "    <tr>\n",
       "      <th>192609</th>\n",
       "      <td>0.0059</td>\n",
       "      <td>-0.0200</td>\n",
       "      <td>-0.0201</td>\n",
       "      <td>-0.0077</td>\n",
       "      <td>0.0000</td>\n",
       "    </tr>\n",
       "    <tr>\n",
       "      <th>192610</th>\n",
       "      <td>-0.0429</td>\n",
       "      <td>-0.0201</td>\n",
       "      <td>-0.0325</td>\n",
       "      <td>-0.0445</td>\n",
       "      <td>-0.0316</td>\n",
       "    </tr>\n",
       "    <tr>\n",
       "      <th>192611</th>\n",
       "      <td>-0.0328</td>\n",
       "      <td>-0.0023</td>\n",
       "      <td>0.0008</td>\n",
       "      <td>0.0490</td>\n",
       "      <td>0.0361</td>\n",
       "    </tr>\n",
       "  </tbody>\n",
       "</table>\n",
       "</div>"
      ],
      "text/plain": [
       "         Lo 10  Dec-02  Dec-03  Dec-04  Dec-05\n",
       "192607 -0.0012  0.0052 -0.0005  0.0082  0.0142\n",
       "192608  0.0113  0.0255  0.0400  0.0332  0.0257\n",
       "192609  0.0059 -0.0200 -0.0201 -0.0077  0.0000\n",
       "192610 -0.0429 -0.0201 -0.0325 -0.0445 -0.0316\n",
       "192611 -0.0328 -0.0023  0.0008  0.0490  0.0361"
      ]
     },
     "execution_count": 36,
     "metadata": {},
     "output_type": "execute_result"
    }
   ],
   "source": [
    "sm_lower_half.head()"
   ]
  },
  {
   "cell_type": "code",
   "execution_count": 37,
   "metadata": {},
   "outputs": [
    {
     "name": "stdout",
     "output_type": "stream",
     "text": [
      "<class 'pandas.core.frame.DataFrame'>\n",
      "Int64Index: 1146 entries, 192607 to 202112\n",
      "Data columns (total 5 columns):\n",
      " #   Column  Non-Null Count  Dtype  \n",
      "---  ------  --------------  -----  \n",
      " 0   Lo 10   1146 non-null   float64\n",
      " 1   Dec-02  1146 non-null   float64\n",
      " 2   Dec-03  1146 non-null   float64\n",
      " 3   Dec-04  1146 non-null   float64\n",
      " 4   Dec-05  1146 non-null   float64\n",
      "dtypes: float64(5)\n",
      "memory usage: 53.7 KB\n"
     ]
    }
   ],
   "source": [
    "sm_lower_half.info()"
   ]
  },
  {
   "cell_type": "markdown",
   "metadata": {},
   "source": [
    "#### Changing the date format"
   ]
  },
  {
   "cell_type": "code",
   "execution_count": 38,
   "metadata": {},
   "outputs": [
    {
     "data": {
      "text/html": [
       "<div>\n",
       "<style scoped>\n",
       "    .dataframe tbody tr th:only-of-type {\n",
       "        vertical-align: middle;\n",
       "    }\n",
       "\n",
       "    .dataframe tbody tr th {\n",
       "        vertical-align: top;\n",
       "    }\n",
       "\n",
       "    .dataframe thead th {\n",
       "        text-align: right;\n",
       "    }\n",
       "</style>\n",
       "<table border=\"1\" class=\"dataframe\">\n",
       "  <thead>\n",
       "    <tr style=\"text-align: right;\">\n",
       "      <th></th>\n",
       "      <th>Lo 10</th>\n",
       "      <th>Dec-02</th>\n",
       "      <th>Dec-03</th>\n",
       "      <th>Dec-04</th>\n",
       "      <th>Dec-05</th>\n",
       "    </tr>\n",
       "  </thead>\n",
       "  <tbody>\n",
       "    <tr>\n",
       "      <th>1926-07-01</th>\n",
       "      <td>-0.0012</td>\n",
       "      <td>0.0052</td>\n",
       "      <td>-0.0005</td>\n",
       "      <td>0.0082</td>\n",
       "      <td>0.0142</td>\n",
       "    </tr>\n",
       "    <tr>\n",
       "      <th>1926-08-01</th>\n",
       "      <td>0.0113</td>\n",
       "      <td>0.0255</td>\n",
       "      <td>0.0400</td>\n",
       "      <td>0.0332</td>\n",
       "      <td>0.0257</td>\n",
       "    </tr>\n",
       "    <tr>\n",
       "      <th>1926-09-01</th>\n",
       "      <td>0.0059</td>\n",
       "      <td>-0.0200</td>\n",
       "      <td>-0.0201</td>\n",
       "      <td>-0.0077</td>\n",
       "      <td>0.0000</td>\n",
       "    </tr>\n",
       "    <tr>\n",
       "      <th>1926-10-01</th>\n",
       "      <td>-0.0429</td>\n",
       "      <td>-0.0201</td>\n",
       "      <td>-0.0325</td>\n",
       "      <td>-0.0445</td>\n",
       "      <td>-0.0316</td>\n",
       "    </tr>\n",
       "    <tr>\n",
       "      <th>1926-11-01</th>\n",
       "      <td>-0.0328</td>\n",
       "      <td>-0.0023</td>\n",
       "      <td>0.0008</td>\n",
       "      <td>0.0490</td>\n",
       "      <td>0.0361</td>\n",
       "    </tr>\n",
       "  </tbody>\n",
       "</table>\n",
       "</div>"
      ],
      "text/plain": [
       "             Lo 10  Dec-02  Dec-03  Dec-04  Dec-05\n",
       "1926-07-01 -0.0012  0.0052 -0.0005  0.0082  0.0142\n",
       "1926-08-01  0.0113  0.0255  0.0400  0.0332  0.0257\n",
       "1926-09-01  0.0059 -0.0200 -0.0201 -0.0077  0.0000\n",
       "1926-10-01 -0.0429 -0.0201 -0.0325 -0.0445 -0.0316\n",
       "1926-11-01 -0.0328 -0.0023  0.0008  0.0490  0.0361"
      ]
     },
     "execution_count": 38,
     "metadata": {},
     "output_type": "execute_result"
    }
   ],
   "source": [
    "sm_lower_half.index=pd.to_datetime(sm_lower_half.index, format=\"%Y%m\")\n",
    "sm_lower_half.head()"
   ]
  },
  {
   "cell_type": "code",
   "execution_count": 39,
   "metadata": {},
   "outputs": [
    {
     "data": {
      "text/html": [
       "<div>\n",
       "<style scoped>\n",
       "    .dataframe tbody tr th:only-of-type {\n",
       "        vertical-align: middle;\n",
       "    }\n",
       "\n",
       "    .dataframe tbody tr th {\n",
       "        vertical-align: top;\n",
       "    }\n",
       "\n",
       "    .dataframe thead th {\n",
       "        text-align: right;\n",
       "    }\n",
       "</style>\n",
       "<table border=\"1\" class=\"dataframe\">\n",
       "  <thead>\n",
       "    <tr style=\"text-align: right;\">\n",
       "      <th></th>\n",
       "      <th>Lo 10</th>\n",
       "      <th>Dec-02</th>\n",
       "      <th>Dec-03</th>\n",
       "      <th>Dec-04</th>\n",
       "      <th>Dec-05</th>\n",
       "    </tr>\n",
       "  </thead>\n",
       "  <tbody>\n",
       "    <tr>\n",
       "      <th>1926-07</th>\n",
       "      <td>-0.0012</td>\n",
       "      <td>0.0052</td>\n",
       "      <td>-0.0005</td>\n",
       "      <td>0.0082</td>\n",
       "      <td>0.0142</td>\n",
       "    </tr>\n",
       "    <tr>\n",
       "      <th>1926-08</th>\n",
       "      <td>0.0113</td>\n",
       "      <td>0.0255</td>\n",
       "      <td>0.0400</td>\n",
       "      <td>0.0332</td>\n",
       "      <td>0.0257</td>\n",
       "    </tr>\n",
       "    <tr>\n",
       "      <th>1926-09</th>\n",
       "      <td>0.0059</td>\n",
       "      <td>-0.0200</td>\n",
       "      <td>-0.0201</td>\n",
       "      <td>-0.0077</td>\n",
       "      <td>0.0000</td>\n",
       "    </tr>\n",
       "    <tr>\n",
       "      <th>1926-10</th>\n",
       "      <td>-0.0429</td>\n",
       "      <td>-0.0201</td>\n",
       "      <td>-0.0325</td>\n",
       "      <td>-0.0445</td>\n",
       "      <td>-0.0316</td>\n",
       "    </tr>\n",
       "    <tr>\n",
       "      <th>1926-11</th>\n",
       "      <td>-0.0328</td>\n",
       "      <td>-0.0023</td>\n",
       "      <td>0.0008</td>\n",
       "      <td>0.0490</td>\n",
       "      <td>0.0361</td>\n",
       "    </tr>\n",
       "  </tbody>\n",
       "</table>\n",
       "</div>"
      ],
      "text/plain": [
       "          Lo 10  Dec-02  Dec-03  Dec-04  Dec-05\n",
       "1926-07 -0.0012  0.0052 -0.0005  0.0082  0.0142\n",
       "1926-08  0.0113  0.0255  0.0400  0.0332  0.0257\n",
       "1926-09  0.0059 -0.0200 -0.0201 -0.0077  0.0000\n",
       "1926-10 -0.0429 -0.0201 -0.0325 -0.0445 -0.0316\n",
       "1926-11 -0.0328 -0.0023  0.0008  0.0490  0.0361"
      ]
     },
     "execution_count": 39,
     "metadata": {},
     "output_type": "execute_result"
    }
   ],
   "source": [
    "sm_lower_half.index=sm_lower_half.index.to_period(\"M\")\n",
    "sm_lower_half.head()"
   ]
  },
  {
   "cell_type": "markdown",
   "metadata": {},
   "source": [
    "#### Now, time for the upper half"
   ]
  },
  {
   "cell_type": "code",
   "execution_count": 40,
   "metadata": {},
   "outputs": [
    {
     "data": {
      "text/html": [
       "<div>\n",
       "<style scoped>\n",
       "    .dataframe tbody tr th:only-of-type {\n",
       "        vertical-align: middle;\n",
       "    }\n",
       "\n",
       "    .dataframe tbody tr th {\n",
       "        vertical-align: top;\n",
       "    }\n",
       "\n",
       "    .dataframe thead th {\n",
       "        text-align: right;\n",
       "    }\n",
       "</style>\n",
       "<table border=\"1\" class=\"dataframe\">\n",
       "  <thead>\n",
       "    <tr style=\"text-align: right;\">\n",
       "      <th></th>\n",
       "      <th>Dec-06</th>\n",
       "      <th>Dec-07</th>\n",
       "      <th>Dec-08</th>\n",
       "      <th>Dec-09</th>\n",
       "      <th>Hi 10</th>\n",
       "    </tr>\n",
       "  </thead>\n",
       "  <tbody>\n",
       "    <tr>\n",
       "      <th>192607</th>\n",
       "      <td>0.0201</td>\n",
       "      <td>0.0157</td>\n",
       "      <td>0.0138</td>\n",
       "      <td>0.0316</td>\n",
       "      <td>0.0379</td>\n",
       "    </tr>\n",
       "    <tr>\n",
       "      <th>192608</th>\n",
       "      <td>0.0456</td>\n",
       "      <td>0.0154</td>\n",
       "      <td>0.0142</td>\n",
       "      <td>0.0086</td>\n",
       "      <td>0.0370</td>\n",
       "    </tr>\n",
       "    <tr>\n",
       "      <th>192609</th>\n",
       "      <td>0.0013</td>\n",
       "      <td>-0.0139</td>\n",
       "      <td>0.0057</td>\n",
       "      <td>-0.0090</td>\n",
       "      <td>0.0125</td>\n",
       "    </tr>\n",
       "    <tr>\n",
       "      <th>192610</th>\n",
       "      <td>-0.0239</td>\n",
       "      <td>-0.0344</td>\n",
       "      <td>-0.0326</td>\n",
       "      <td>-0.0350</td>\n",
       "      <td>-0.0254</td>\n",
       "    </tr>\n",
       "    <tr>\n",
       "      <th>192611</th>\n",
       "      <td>0.0341</td>\n",
       "      <td>0.0355</td>\n",
       "      <td>0.0314</td>\n",
       "      <td>0.0389</td>\n",
       "      <td>0.0239</td>\n",
       "    </tr>\n",
       "  </tbody>\n",
       "</table>\n",
       "</div>"
      ],
      "text/plain": [
       "        Dec-06  Dec-07  Dec-08  Dec-09   Hi 10\n",
       "192607  0.0201  0.0157  0.0138  0.0316  0.0379\n",
       "192608  0.0456  0.0154  0.0142  0.0086  0.0370\n",
       "192609  0.0013 -0.0139  0.0057 -0.0090  0.0125\n",
       "192610 -0.0239 -0.0344 -0.0326 -0.0350 -0.0254\n",
       "192611  0.0341  0.0355  0.0314  0.0389  0.0239"
      ]
     },
     "execution_count": 40,
     "metadata": {},
     "output_type": "execute_result"
    }
   ],
   "source": [
    "sm_upper_half=ff_port[[\"Dec-06\",\"Dec-07\",\"Dec-08\",\"Dec-09\",\"Hi 10\"]]/100\n",
    "sm_upper_half.head()"
   ]
  },
  {
   "cell_type": "markdown",
   "metadata": {},
   "source": [
    "#### Date format"
   ]
  },
  {
   "cell_type": "code",
   "execution_count": 41,
   "metadata": {},
   "outputs": [
    {
     "data": {
      "text/html": [
       "<div>\n",
       "<style scoped>\n",
       "    .dataframe tbody tr th:only-of-type {\n",
       "        vertical-align: middle;\n",
       "    }\n",
       "\n",
       "    .dataframe tbody tr th {\n",
       "        vertical-align: top;\n",
       "    }\n",
       "\n",
       "    .dataframe thead th {\n",
       "        text-align: right;\n",
       "    }\n",
       "</style>\n",
       "<table border=\"1\" class=\"dataframe\">\n",
       "  <thead>\n",
       "    <tr style=\"text-align: right;\">\n",
       "      <th></th>\n",
       "      <th>Dec-06</th>\n",
       "      <th>Dec-07</th>\n",
       "      <th>Dec-08</th>\n",
       "      <th>Dec-09</th>\n",
       "      <th>Hi 10</th>\n",
       "    </tr>\n",
       "  </thead>\n",
       "  <tbody>\n",
       "    <tr>\n",
       "      <th>1926-07-01</th>\n",
       "      <td>0.0201</td>\n",
       "      <td>0.0157</td>\n",
       "      <td>0.0138</td>\n",
       "      <td>0.0316</td>\n",
       "      <td>0.0379</td>\n",
       "    </tr>\n",
       "    <tr>\n",
       "      <th>1926-08-01</th>\n",
       "      <td>0.0456</td>\n",
       "      <td>0.0154</td>\n",
       "      <td>0.0142</td>\n",
       "      <td>0.0086</td>\n",
       "      <td>0.0370</td>\n",
       "    </tr>\n",
       "    <tr>\n",
       "      <th>1926-09-01</th>\n",
       "      <td>0.0013</td>\n",
       "      <td>-0.0139</td>\n",
       "      <td>0.0057</td>\n",
       "      <td>-0.0090</td>\n",
       "      <td>0.0125</td>\n",
       "    </tr>\n",
       "    <tr>\n",
       "      <th>1926-10-01</th>\n",
       "      <td>-0.0239</td>\n",
       "      <td>-0.0344</td>\n",
       "      <td>-0.0326</td>\n",
       "      <td>-0.0350</td>\n",
       "      <td>-0.0254</td>\n",
       "    </tr>\n",
       "    <tr>\n",
       "      <th>1926-11-01</th>\n",
       "      <td>0.0341</td>\n",
       "      <td>0.0355</td>\n",
       "      <td>0.0314</td>\n",
       "      <td>0.0389</td>\n",
       "      <td>0.0239</td>\n",
       "    </tr>\n",
       "  </tbody>\n",
       "</table>\n",
       "</div>"
      ],
      "text/plain": [
       "            Dec-06  Dec-07  Dec-08  Dec-09   Hi 10\n",
       "1926-07-01  0.0201  0.0157  0.0138  0.0316  0.0379\n",
       "1926-08-01  0.0456  0.0154  0.0142  0.0086  0.0370\n",
       "1926-09-01  0.0013 -0.0139  0.0057 -0.0090  0.0125\n",
       "1926-10-01 -0.0239 -0.0344 -0.0326 -0.0350 -0.0254\n",
       "1926-11-01  0.0341  0.0355  0.0314  0.0389  0.0239"
      ]
     },
     "execution_count": 41,
     "metadata": {},
     "output_type": "execute_result"
    }
   ],
   "source": [
    "sm_upper_half.index=pd.to_datetime(sm_upper_half.index, format=\"%Y%m\")\n",
    "sm_upper_half.head()"
   ]
  },
  {
   "cell_type": "code",
   "execution_count": 42,
   "metadata": {},
   "outputs": [
    {
     "data": {
      "text/html": [
       "<div>\n",
       "<style scoped>\n",
       "    .dataframe tbody tr th:only-of-type {\n",
       "        vertical-align: middle;\n",
       "    }\n",
       "\n",
       "    .dataframe tbody tr th {\n",
       "        vertical-align: top;\n",
       "    }\n",
       "\n",
       "    .dataframe thead th {\n",
       "        text-align: right;\n",
       "    }\n",
       "</style>\n",
       "<table border=\"1\" class=\"dataframe\">\n",
       "  <thead>\n",
       "    <tr style=\"text-align: right;\">\n",
       "      <th></th>\n",
       "      <th>Dec-06</th>\n",
       "      <th>Dec-07</th>\n",
       "      <th>Dec-08</th>\n",
       "      <th>Dec-09</th>\n",
       "      <th>Hi 10</th>\n",
       "    </tr>\n",
       "  </thead>\n",
       "  <tbody>\n",
       "    <tr>\n",
       "      <th>1926-07</th>\n",
       "      <td>0.0201</td>\n",
       "      <td>0.0157</td>\n",
       "      <td>0.0138</td>\n",
       "      <td>0.0316</td>\n",
       "      <td>0.0379</td>\n",
       "    </tr>\n",
       "    <tr>\n",
       "      <th>1926-08</th>\n",
       "      <td>0.0456</td>\n",
       "      <td>0.0154</td>\n",
       "      <td>0.0142</td>\n",
       "      <td>0.0086</td>\n",
       "      <td>0.0370</td>\n",
       "    </tr>\n",
       "    <tr>\n",
       "      <th>1926-09</th>\n",
       "      <td>0.0013</td>\n",
       "      <td>-0.0139</td>\n",
       "      <td>0.0057</td>\n",
       "      <td>-0.0090</td>\n",
       "      <td>0.0125</td>\n",
       "    </tr>\n",
       "    <tr>\n",
       "      <th>1926-10</th>\n",
       "      <td>-0.0239</td>\n",
       "      <td>-0.0344</td>\n",
       "      <td>-0.0326</td>\n",
       "      <td>-0.0350</td>\n",
       "      <td>-0.0254</td>\n",
       "    </tr>\n",
       "    <tr>\n",
       "      <th>1926-11</th>\n",
       "      <td>0.0341</td>\n",
       "      <td>0.0355</td>\n",
       "      <td>0.0314</td>\n",
       "      <td>0.0389</td>\n",
       "      <td>0.0239</td>\n",
       "    </tr>\n",
       "  </tbody>\n",
       "</table>\n",
       "</div>"
      ],
      "text/plain": [
       "         Dec-06  Dec-07  Dec-08  Dec-09   Hi 10\n",
       "1926-07  0.0201  0.0157  0.0138  0.0316  0.0379\n",
       "1926-08  0.0456  0.0154  0.0142  0.0086  0.0370\n",
       "1926-09  0.0013 -0.0139  0.0057 -0.0090  0.0125\n",
       "1926-10 -0.0239 -0.0344 -0.0326 -0.0350 -0.0254\n",
       "1926-11  0.0341  0.0355  0.0314  0.0389  0.0239"
      ]
     },
     "execution_count": 42,
     "metadata": {},
     "output_type": "execute_result"
    }
   ],
   "source": [
    "sm_upper_half.index=sm_upper_half.index.to_period(\"M\")\n",
    "sm_upper_half.head()"
   ]
  },
  {
   "cell_type": "markdown",
   "metadata": {},
   "source": [
    "# .........................................................................................................................."
   ]
  },
  {
   "cell_type": "markdown",
   "metadata": {},
   "source": [
    "#### Processing the quintiles data"
   ]
  },
  {
   "cell_type": "code",
   "execution_count": 43,
   "metadata": {},
   "outputs": [
    {
     "data": {
      "text/html": [
       "<div>\n",
       "<style scoped>\n",
       "    .dataframe tbody tr th:only-of-type {\n",
       "        vertical-align: middle;\n",
       "    }\n",
       "\n",
       "    .dataframe tbody tr th {\n",
       "        vertical-align: top;\n",
       "    }\n",
       "\n",
       "    .dataframe thead th {\n",
       "        text-align: right;\n",
       "    }\n",
       "</style>\n",
       "<table border=\"1\" class=\"dataframe\">\n",
       "  <thead>\n",
       "    <tr style=\"text-align: right;\">\n",
       "      <th></th>\n",
       "      <th>&lt;= 0</th>\n",
       "      <th>Lo 30</th>\n",
       "      <th>Med 40</th>\n",
       "      <th>Hi 30</th>\n",
       "      <th>Lo 20</th>\n",
       "      <th>Qnt 2</th>\n",
       "      <th>Qnt 3</th>\n",
       "      <th>Qnt 4</th>\n",
       "      <th>Hi 20</th>\n",
       "      <th>Lo 10</th>\n",
       "      <th>Dec-02</th>\n",
       "      <th>Dec-03</th>\n",
       "      <th>Dec-04</th>\n",
       "      <th>Dec-05</th>\n",
       "      <th>Dec-06</th>\n",
       "      <th>Dec-07</th>\n",
       "      <th>Dec-08</th>\n",
       "      <th>Dec-09</th>\n",
       "      <th>Hi 10</th>\n",
       "    </tr>\n",
       "  </thead>\n",
       "  <tbody>\n",
       "    <tr>\n",
       "      <th>192607</th>\n",
       "      <td>NaN</td>\n",
       "      <td>0.14</td>\n",
       "      <td>1.56</td>\n",
       "      <td>3.41</td>\n",
       "      <td>0.37</td>\n",
       "      <td>0.48</td>\n",
       "      <td>1.76</td>\n",
       "      <td>1.45</td>\n",
       "      <td>3.65</td>\n",
       "      <td>-0.12</td>\n",
       "      <td>0.52</td>\n",
       "      <td>-0.05</td>\n",
       "      <td>0.82</td>\n",
       "      <td>1.42</td>\n",
       "      <td>2.01</td>\n",
       "      <td>1.57</td>\n",
       "      <td>1.38</td>\n",
       "      <td>3.16</td>\n",
       "      <td>3.79</td>\n",
       "    </tr>\n",
       "    <tr>\n",
       "      <th>192608</th>\n",
       "      <td>NaN</td>\n",
       "      <td>3.19</td>\n",
       "      <td>2.74</td>\n",
       "      <td>2.91</td>\n",
       "      <td>2.21</td>\n",
       "      <td>3.58</td>\n",
       "      <td>3.72</td>\n",
       "      <td>1.46</td>\n",
       "      <td>3.07</td>\n",
       "      <td>1.13</td>\n",
       "      <td>2.55</td>\n",
       "      <td>4.00</td>\n",
       "      <td>3.32</td>\n",
       "      <td>2.57</td>\n",
       "      <td>4.56</td>\n",
       "      <td>1.54</td>\n",
       "      <td>1.42</td>\n",
       "      <td>0.86</td>\n",
       "      <td>3.70</td>\n",
       "    </tr>\n",
       "    <tr>\n",
       "      <th>192609</th>\n",
       "      <td>NaN</td>\n",
       "      <td>-1.73</td>\n",
       "      <td>-0.65</td>\n",
       "      <td>0.77</td>\n",
       "      <td>-1.39</td>\n",
       "      <td>-1.25</td>\n",
       "      <td>0.07</td>\n",
       "      <td>-0.15</td>\n",
       "      <td>0.79</td>\n",
       "      <td>0.59</td>\n",
       "      <td>-2.00</td>\n",
       "      <td>-2.01</td>\n",
       "      <td>-0.77</td>\n",
       "      <td>0.00</td>\n",
       "      <td>0.13</td>\n",
       "      <td>-1.39</td>\n",
       "      <td>0.57</td>\n",
       "      <td>-0.90</td>\n",
       "      <td>1.25</td>\n",
       "    </tr>\n",
       "    <tr>\n",
       "      <th>192610</th>\n",
       "      <td>NaN</td>\n",
       "      <td>-2.94</td>\n",
       "      <td>-3.25</td>\n",
       "      <td>-2.79</td>\n",
       "      <td>-2.56</td>\n",
       "      <td>-3.99</td>\n",
       "      <td>-2.71</td>\n",
       "      <td>-3.33</td>\n",
       "      <td>-2.74</td>\n",
       "      <td>-4.29</td>\n",
       "      <td>-2.01</td>\n",
       "      <td>-3.25</td>\n",
       "      <td>-4.45</td>\n",
       "      <td>-3.16</td>\n",
       "      <td>-2.39</td>\n",
       "      <td>-3.44</td>\n",
       "      <td>-3.26</td>\n",
       "      <td>-3.50</td>\n",
       "      <td>-2.54</td>\n",
       "    </tr>\n",
       "    <tr>\n",
       "      <th>192611</th>\n",
       "      <td>NaN</td>\n",
       "      <td>-0.38</td>\n",
       "      <td>3.70</td>\n",
       "      <td>2.75</td>\n",
       "      <td>-0.95</td>\n",
       "      <td>3.03</td>\n",
       "      <td>3.49</td>\n",
       "      <td>3.29</td>\n",
       "      <td>2.70</td>\n",
       "      <td>-3.28</td>\n",
       "      <td>-0.23</td>\n",
       "      <td>0.08</td>\n",
       "      <td>4.90</td>\n",
       "      <td>3.61</td>\n",
       "      <td>3.41</td>\n",
       "      <td>3.55</td>\n",
       "      <td>3.14</td>\n",
       "      <td>3.89</td>\n",
       "      <td>2.39</td>\n",
       "    </tr>\n",
       "  </tbody>\n",
       "</table>\n",
       "</div>"
      ],
      "text/plain": [
       "        <= 0  Lo 30  Med 40  Hi 30  Lo 20  Qnt 2  Qnt 3  Qnt 4  Hi 20  Lo 10  \\\n",
       "192607   NaN   0.14    1.56   3.41   0.37   0.48   1.76   1.45   3.65  -0.12   \n",
       "192608   NaN   3.19    2.74   2.91   2.21   3.58   3.72   1.46   3.07   1.13   \n",
       "192609   NaN  -1.73   -0.65   0.77  -1.39  -1.25   0.07  -0.15   0.79   0.59   \n",
       "192610   NaN  -2.94   -3.25  -2.79  -2.56  -3.99  -2.71  -3.33  -2.74  -4.29   \n",
       "192611   NaN  -0.38    3.70   2.75  -0.95   3.03   3.49   3.29   2.70  -3.28   \n",
       "\n",
       "        Dec-02  Dec-03  Dec-04  Dec-05  Dec-06  Dec-07  Dec-08  Dec-09  Hi 10  \n",
       "192607    0.52   -0.05    0.82    1.42    2.01    1.57    1.38    3.16   3.79  \n",
       "192608    2.55    4.00    3.32    2.57    4.56    1.54    1.42    0.86   3.70  \n",
       "192609   -2.00   -2.01   -0.77    0.00    0.13   -1.39    0.57   -0.90   1.25  \n",
       "192610   -2.01   -3.25   -4.45   -3.16   -2.39   -3.44   -3.26   -3.50  -2.54  \n",
       "192611   -0.23    0.08    4.90    3.61    3.41    3.55    3.14    3.89   2.39  "
      ]
     },
     "execution_count": 43,
     "metadata": {},
     "output_type": "execute_result"
    }
   ],
   "source": [
    "ff_port.head()"
   ]
  },
  {
   "cell_type": "code",
   "execution_count": 44,
   "metadata": {},
   "outputs": [
    {
     "data": {
      "text/html": [
       "<div>\n",
       "<style scoped>\n",
       "    .dataframe tbody tr th:only-of-type {\n",
       "        vertical-align: middle;\n",
       "    }\n",
       "\n",
       "    .dataframe tbody tr th {\n",
       "        vertical-align: top;\n",
       "    }\n",
       "\n",
       "    .dataframe thead th {\n",
       "        text-align: right;\n",
       "    }\n",
       "</style>\n",
       "<table border=\"1\" class=\"dataframe\">\n",
       "  <thead>\n",
       "    <tr style=\"text-align: right;\">\n",
       "      <th></th>\n",
       "      <th>Lo 20</th>\n",
       "      <th>Qnt 2</th>\n",
       "      <th>Qnt 3</th>\n",
       "      <th>Qnt 4</th>\n",
       "      <th>Hi 20</th>\n",
       "    </tr>\n",
       "  </thead>\n",
       "  <tbody>\n",
       "    <tr>\n",
       "      <th>192607</th>\n",
       "      <td>0.0037</td>\n",
       "      <td>0.0048</td>\n",
       "      <td>0.0176</td>\n",
       "      <td>0.0145</td>\n",
       "      <td>0.0365</td>\n",
       "    </tr>\n",
       "    <tr>\n",
       "      <th>192608</th>\n",
       "      <td>0.0221</td>\n",
       "      <td>0.0358</td>\n",
       "      <td>0.0372</td>\n",
       "      <td>0.0146</td>\n",
       "      <td>0.0307</td>\n",
       "    </tr>\n",
       "    <tr>\n",
       "      <th>192609</th>\n",
       "      <td>-0.0139</td>\n",
       "      <td>-0.0125</td>\n",
       "      <td>0.0007</td>\n",
       "      <td>-0.0015</td>\n",
       "      <td>0.0079</td>\n",
       "    </tr>\n",
       "    <tr>\n",
       "      <th>192610</th>\n",
       "      <td>-0.0256</td>\n",
       "      <td>-0.0399</td>\n",
       "      <td>-0.0271</td>\n",
       "      <td>-0.0333</td>\n",
       "      <td>-0.0274</td>\n",
       "    </tr>\n",
       "    <tr>\n",
       "      <th>192611</th>\n",
       "      <td>-0.0095</td>\n",
       "      <td>0.0303</td>\n",
       "      <td>0.0349</td>\n",
       "      <td>0.0329</td>\n",
       "      <td>0.0270</td>\n",
       "    </tr>\n",
       "  </tbody>\n",
       "</table>\n",
       "</div>"
      ],
      "text/plain": [
       "         Lo 20   Qnt 2   Qnt 3   Qnt 4   Hi 20\n",
       "192607  0.0037  0.0048  0.0176  0.0145  0.0365\n",
       "192608  0.0221  0.0358  0.0372  0.0146  0.0307\n",
       "192609 -0.0139 -0.0125  0.0007 -0.0015  0.0079\n",
       "192610 -0.0256 -0.0399 -0.0271 -0.0333 -0.0274\n",
       "192611 -0.0095  0.0303  0.0349  0.0329  0.0270"
      ]
     },
     "execution_count": 44,
     "metadata": {},
     "output_type": "execute_result"
    }
   ],
   "source": [
    "# Lets subset the quintiles data from ff_port\n",
    "\n",
    "quint_data= ff_port[[\"Lo 20\",\"Qnt 2\",\"Qnt 3\",\"Qnt 4\",\"Hi 20\"]]/100\n",
    "quint_data.head()\n"
   ]
  },
  {
   "cell_type": "code",
   "execution_count": 45,
   "metadata": {},
   "outputs": [
    {
     "data": {
      "text/html": [
       "<div>\n",
       "<style scoped>\n",
       "    .dataframe tbody tr th:only-of-type {\n",
       "        vertical-align: middle;\n",
       "    }\n",
       "\n",
       "    .dataframe tbody tr th {\n",
       "        vertical-align: top;\n",
       "    }\n",
       "\n",
       "    .dataframe thead th {\n",
       "        text-align: right;\n",
       "    }\n",
       "</style>\n",
       "<table border=\"1\" class=\"dataframe\">\n",
       "  <thead>\n",
       "    <tr style=\"text-align: right;\">\n",
       "      <th></th>\n",
       "      <th>Lo 20</th>\n",
       "      <th>Qnt 2</th>\n",
       "      <th>Qnt 3</th>\n",
       "      <th>Qnt 4</th>\n",
       "      <th>Hi 20</th>\n",
       "    </tr>\n",
       "  </thead>\n",
       "  <tbody>\n",
       "    <tr>\n",
       "      <th>2021-08-01</th>\n",
       "      <td>0.0313</td>\n",
       "      <td>0.0197</td>\n",
       "      <td>0.0188</td>\n",
       "      <td>0.0270</td>\n",
       "      <td>0.0302</td>\n",
       "    </tr>\n",
       "    <tr>\n",
       "      <th>2021-09-01</th>\n",
       "      <td>-0.0264</td>\n",
       "      <td>-0.0306</td>\n",
       "      <td>-0.0288</td>\n",
       "      <td>-0.0361</td>\n",
       "      <td>-0.0464</td>\n",
       "    </tr>\n",
       "    <tr>\n",
       "      <th>2021-10-01</th>\n",
       "      <td>0.0167</td>\n",
       "      <td>0.0309</td>\n",
       "      <td>0.0455</td>\n",
       "      <td>0.0515</td>\n",
       "      <td>0.0716</td>\n",
       "    </tr>\n",
       "    <tr>\n",
       "      <th>2021-11-01</th>\n",
       "      <td>-0.0502</td>\n",
       "      <td>-0.0408</td>\n",
       "      <td>-0.0445</td>\n",
       "      <td>-0.0423</td>\n",
       "      <td>-0.0089</td>\n",
       "    </tr>\n",
       "    <tr>\n",
       "      <th>2021-12-01</th>\n",
       "      <td>-0.0004</td>\n",
       "      <td>0.0281</td>\n",
       "      <td>0.0238</td>\n",
       "      <td>0.0359</td>\n",
       "      <td>0.0351</td>\n",
       "    </tr>\n",
       "  </tbody>\n",
       "</table>\n",
       "</div>"
      ],
      "text/plain": [
       "             Lo 20   Qnt 2   Qnt 3   Qnt 4   Hi 20\n",
       "2021-08-01  0.0313  0.0197  0.0188  0.0270  0.0302\n",
       "2021-09-01 -0.0264 -0.0306 -0.0288 -0.0361 -0.0464\n",
       "2021-10-01  0.0167  0.0309  0.0455  0.0515  0.0716\n",
       "2021-11-01 -0.0502 -0.0408 -0.0445 -0.0423 -0.0089\n",
       "2021-12-01 -0.0004  0.0281  0.0238  0.0359  0.0351"
      ]
     },
     "execution_count": 45,
     "metadata": {},
     "output_type": "execute_result"
    }
   ],
   "source": [
    "quint_data.index=pd.to_datetime(quint_data.index,format=\"%Y%m\")\n",
    "quint_data.tail() "
   ]
  },
  {
   "cell_type": "code",
   "execution_count": 46,
   "metadata": {},
   "outputs": [],
   "source": [
    "quint_data.index=quint_data.index.to_period(\"M\")"
   ]
  },
  {
   "cell_type": "code",
   "execution_count": 47,
   "metadata": {},
   "outputs": [
    {
     "data": {
      "text/plain": [
       "pandas.core.indexes.period.PeriodIndex"
      ]
     },
     "execution_count": 47,
     "metadata": {},
     "output_type": "execute_result"
    }
   ],
   "source": [
    "type(quint_data.index) # As you can see now, the index type has been changed to a datetime index"
   ]
  },
  {
   "cell_type": "markdown",
   "metadata": {},
   "source": [
    "#### Descriptive stats on quintiles"
   ]
  },
  {
   "cell_type": "code",
   "execution_count": 48,
   "metadata": {},
   "outputs": [
    {
     "data": {
      "text/html": [
       "<div>\n",
       "<style scoped>\n",
       "    .dataframe tbody tr th:only-of-type {\n",
       "        vertical-align: middle;\n",
       "    }\n",
       "\n",
       "    .dataframe tbody tr th {\n",
       "        vertical-align: top;\n",
       "    }\n",
       "\n",
       "    .dataframe thead th {\n",
       "        text-align: right;\n",
       "    }\n",
       "</style>\n",
       "<table border=\"1\" class=\"dataframe\">\n",
       "  <thead>\n",
       "    <tr style=\"text-align: right;\">\n",
       "      <th></th>\n",
       "      <th>Lo 20</th>\n",
       "      <th>Qnt 2</th>\n",
       "      <th>Qnt 3</th>\n",
       "      <th>Qnt 4</th>\n",
       "      <th>Hi 20</th>\n",
       "    </tr>\n",
       "  </thead>\n",
       "  <tbody>\n",
       "    <tr>\n",
       "      <th>count</th>\n",
       "      <td>1146.000000</td>\n",
       "      <td>1146.000000</td>\n",
       "      <td>1146.000000</td>\n",
       "      <td>1146.000000</td>\n",
       "      <td>1146.000000</td>\n",
       "    </tr>\n",
       "    <tr>\n",
       "      <th>mean</th>\n",
       "      <td>0.013066</td>\n",
       "      <td>0.012331</td>\n",
       "      <td>0.011773</td>\n",
       "      <td>0.011051</td>\n",
       "      <td>0.009336</td>\n",
       "    </tr>\n",
       "    <tr>\n",
       "      <th>std</th>\n",
       "      <td>0.088955</td>\n",
       "      <td>0.075665</td>\n",
       "      <td>0.068296</td>\n",
       "      <td>0.061725</td>\n",
       "      <td>0.051098</td>\n",
       "    </tr>\n",
       "    <tr>\n",
       "      <th>min</th>\n",
       "      <td>-0.330900</td>\n",
       "      <td>-0.313600</td>\n",
       "      <td>-0.316300</td>\n",
       "      <td>-0.297700</td>\n",
       "      <td>-0.286900</td>\n",
       "    </tr>\n",
       "    <tr>\n",
       "      <th>25%</th>\n",
       "      <td>-0.026725</td>\n",
       "      <td>-0.024450</td>\n",
       "      <td>-0.022000</td>\n",
       "      <td>-0.019025</td>\n",
       "      <td>-0.016300</td>\n",
       "    </tr>\n",
       "    <tr>\n",
       "      <th>50%</th>\n",
       "      <td>0.013850</td>\n",
       "      <td>0.016950</td>\n",
       "      <td>0.015500</td>\n",
       "      <td>0.015000</td>\n",
       "      <td>0.012050</td>\n",
       "    </tr>\n",
       "    <tr>\n",
       "      <th>75%</th>\n",
       "      <td>0.049875</td>\n",
       "      <td>0.048275</td>\n",
       "      <td>0.046675</td>\n",
       "      <td>0.042900</td>\n",
       "      <td>0.037675</td>\n",
       "    </tr>\n",
       "    <tr>\n",
       "      <th>max</th>\n",
       "      <td>0.959700</td>\n",
       "      <td>0.699000</td>\n",
       "      <td>0.580700</td>\n",
       "      <td>0.527400</td>\n",
       "      <td>0.369500</td>\n",
       "    </tr>\n",
       "  </tbody>\n",
       "</table>\n",
       "</div>"
      ],
      "text/plain": [
       "             Lo 20        Qnt 2        Qnt 3        Qnt 4        Hi 20\n",
       "count  1146.000000  1146.000000  1146.000000  1146.000000  1146.000000\n",
       "mean      0.013066     0.012331     0.011773     0.011051     0.009336\n",
       "std       0.088955     0.075665     0.068296     0.061725     0.051098\n",
       "min      -0.330900    -0.313600    -0.316300    -0.297700    -0.286900\n",
       "25%      -0.026725    -0.024450    -0.022000    -0.019025    -0.016300\n",
       "50%       0.013850     0.016950     0.015500     0.015000     0.012050\n",
       "75%       0.049875     0.048275     0.046675     0.042900     0.037675\n",
       "max       0.959700     0.699000     0.580700     0.527400     0.369500"
      ]
     },
     "execution_count": 48,
     "metadata": {},
     "output_type": "execute_result"
    }
   ],
   "source": [
    "quint_data.describe() # Full sample stats"
   ]
  },
  {
   "cell_type": "code",
   "execution_count": 49,
   "metadata": {},
   "outputs": [
    {
     "data": {
      "text/html": [
       "<div>\n",
       "<style scoped>\n",
       "    .dataframe tbody tr th:only-of-type {\n",
       "        vertical-align: middle;\n",
       "    }\n",
       "\n",
       "    .dataframe tbody tr th {\n",
       "        vertical-align: top;\n",
       "    }\n",
       "\n",
       "    .dataframe thead th {\n",
       "        text-align: right;\n",
       "    }\n",
       "</style>\n",
       "<table border=\"1\" class=\"dataframe\">\n",
       "  <thead>\n",
       "    <tr style=\"text-align: right;\">\n",
       "      <th></th>\n",
       "      <th>Lo 20</th>\n",
       "      <th>Qnt 2</th>\n",
       "      <th>Qnt 3</th>\n",
       "      <th>Qnt 4</th>\n",
       "      <th>Hi 20</th>\n",
       "    </tr>\n",
       "  </thead>\n",
       "  <tbody>\n",
       "    <tr>\n",
       "      <th>count</th>\n",
       "      <td>264.000000</td>\n",
       "      <td>264.000000</td>\n",
       "      <td>264.000000</td>\n",
       "      <td>264.000000</td>\n",
       "      <td>264.000000</td>\n",
       "    </tr>\n",
       "    <tr>\n",
       "      <th>mean</th>\n",
       "      <td>0.010349</td>\n",
       "      <td>0.009803</td>\n",
       "      <td>0.009432</td>\n",
       "      <td>0.009684</td>\n",
       "      <td>0.006973</td>\n",
       "    </tr>\n",
       "    <tr>\n",
       "      <th>std</th>\n",
       "      <td>0.066982</td>\n",
       "      <td>0.061363</td>\n",
       "      <td>0.055893</td>\n",
       "      <td>0.052331</td>\n",
       "      <td>0.043046</td>\n",
       "    </tr>\n",
       "    <tr>\n",
       "      <th>min</th>\n",
       "      <td>-0.231300</td>\n",
       "      <td>-0.232100</td>\n",
       "      <td>-0.212400</td>\n",
       "      <td>-0.212500</td>\n",
       "      <td>-0.158900</td>\n",
       "    </tr>\n",
       "    <tr>\n",
       "      <th>25%</th>\n",
       "      <td>-0.027275</td>\n",
       "      <td>-0.027750</td>\n",
       "      <td>-0.023600</td>\n",
       "      <td>-0.017425</td>\n",
       "      <td>-0.016125</td>\n",
       "    </tr>\n",
       "    <tr>\n",
       "      <th>50%</th>\n",
       "      <td>0.014000</td>\n",
       "      <td>0.017950</td>\n",
       "      <td>0.014600</td>\n",
       "      <td>0.013900</td>\n",
       "      <td>0.011800</td>\n",
       "    </tr>\n",
       "    <tr>\n",
       "      <th>75%</th>\n",
       "      <td>0.053050</td>\n",
       "      <td>0.047675</td>\n",
       "      <td>0.045800</td>\n",
       "      <td>0.042425</td>\n",
       "      <td>0.032150</td>\n",
       "    </tr>\n",
       "    <tr>\n",
       "      <th>max</th>\n",
       "      <td>0.275000</td>\n",
       "      <td>0.195200</td>\n",
       "      <td>0.179100</td>\n",
       "      <td>0.154800</td>\n",
       "      <td>0.132500</td>\n",
       "    </tr>\n",
       "  </tbody>\n",
       "</table>\n",
       "</div>"
      ],
      "text/plain": [
       "            Lo 20       Qnt 2       Qnt 3       Qnt 4       Hi 20\n",
       "count  264.000000  264.000000  264.000000  264.000000  264.000000\n",
       "mean     0.010349    0.009803    0.009432    0.009684    0.006973\n",
       "std      0.066982    0.061363    0.055893    0.052331    0.043046\n",
       "min     -0.231300   -0.232100   -0.212400   -0.212500   -0.158900\n",
       "25%     -0.027275   -0.027750   -0.023600   -0.017425   -0.016125\n",
       "50%      0.014000    0.017950    0.014600    0.013900    0.011800\n",
       "75%      0.053050    0.047675    0.045800    0.042425    0.032150\n",
       "max      0.275000    0.195200    0.179100    0.154800    0.132500"
      ]
     },
     "execution_count": 49,
     "metadata": {},
     "output_type": "execute_result"
    }
   ],
   "source": [
    "quint_data1=quint_data[\"2000\":] # Stats for 2000 to 2021\n",
    "quint_data1.describe()"
   ]
  },
  {
   "cell_type": "markdown",
   "metadata": {},
   "source": [
    "#### Annualized returns"
   ]
  },
  {
   "cell_type": "markdown",
   "metadata": {},
   "source": [
    "##### Full Sample"
   ]
  },
  {
   "cell_type": "code",
   "execution_count": 50,
   "metadata": {},
   "outputs": [],
   "source": [
    "n=quint_data.shape[0] # Gives the number of observations or rows"
   ]
  },
  {
   "cell_type": "code",
   "execution_count": 51,
   "metadata": {},
   "outputs": [
    {
     "data": {
      "text/plain": [
       "Lo 20    0.119905\n",
       "Qnt 2    0.121636\n",
       "Qnt 3    0.120224\n",
       "Qnt 4    0.115915\n",
       "Hi 20    0.100765\n",
       "dtype: float64"
      ]
     },
     "execution_count": 51,
     "metadata": {},
     "output_type": "execute_result"
    }
   ],
   "source": [
    "### Annualizing the average returns\n",
    "\n",
    "quint_ann_rets= ((1+quint_data).prod())**(12/n)-1\n",
    "quint_ann_rets "
   ]
  },
  {
   "cell_type": "markdown",
   "metadata": {},
   "source": [
    "##### 2000-2021"
   ]
  },
  {
   "cell_type": "code",
   "execution_count": 52,
   "metadata": {},
   "outputs": [
    {
     "data": {
      "text/plain": [
       "264"
      ]
     },
     "execution_count": 52,
     "metadata": {},
     "output_type": "execute_result"
    }
   ],
   "source": [
    "n1=quint_data1.shape[0]\n",
    "n1"
   ]
  },
  {
   "cell_type": "code",
   "execution_count": 53,
   "metadata": {},
   "outputs": [
    {
     "data": {
      "text/plain": [
       "Lo 20    0.101892\n",
       "Qnt 2    0.099021\n",
       "Qnt 3    0.098476\n",
       "Qnt 4    0.104251\n",
       "Hi 20    0.074955\n",
       "dtype: float64"
      ]
     },
     "execution_count": 53,
     "metadata": {},
     "output_type": "execute_result"
    }
   ],
   "source": [
    "quint1_ann_rets= ((1+quint_data1).prod())**(12/n1)-1\n",
    "quint1_ann_rets"
   ]
  },
  {
   "cell_type": "code",
   "execution_count": null,
   "metadata": {},
   "outputs": [],
   "source": []
  },
  {
   "cell_type": "markdown",
   "metadata": {},
   "source": [
    "#### Wealth index"
   ]
  },
  {
   "cell_type": "code",
   "execution_count": 54,
   "metadata": {},
   "outputs": [
    {
     "data": {
      "text/html": [
       "<div>\n",
       "<style scoped>\n",
       "    .dataframe tbody tr th:only-of-type {\n",
       "        vertical-align: middle;\n",
       "    }\n",
       "\n",
       "    .dataframe tbody tr th {\n",
       "        vertical-align: top;\n",
       "    }\n",
       "\n",
       "    .dataframe thead th {\n",
       "        text-align: right;\n",
       "    }\n",
       "</style>\n",
       "<table border=\"1\" class=\"dataframe\">\n",
       "  <thead>\n",
       "    <tr style=\"text-align: right;\">\n",
       "      <th></th>\n",
       "      <th>Lo 20</th>\n",
       "      <th>Qnt 2</th>\n",
       "      <th>Qnt 3</th>\n",
       "      <th>Qnt 4</th>\n",
       "      <th>Hi 20</th>\n",
       "    </tr>\n",
       "  </thead>\n",
       "  <tbody>\n",
       "    <tr>\n",
       "      <th>2000-01</th>\n",
       "      <td>1059.20</td>\n",
       "      <td>985.90</td>\n",
       "      <td>960.90</td>\n",
       "      <td>963.00</td>\n",
       "      <td>953.60</td>\n",
       "    </tr>\n",
       "    <tr>\n",
       "      <th>2000-02</th>\n",
       "      <td>1350.48</td>\n",
       "      <td>1159.52</td>\n",
       "      <td>1076.69</td>\n",
       "      <td>1088.29</td>\n",
       "      <td>941.39</td>\n",
       "    </tr>\n",
       "    <tr>\n",
       "      <th>2000-03</th>\n",
       "      <td>1209.08</td>\n",
       "      <td>1085.66</td>\n",
       "      <td>1050.31</td>\n",
       "      <td>1123.76</td>\n",
       "      <td>1033.18</td>\n",
       "    </tr>\n",
       "    <tr>\n",
       "      <th>2000-04</th>\n",
       "      <td>1024.46</td>\n",
       "      <td>986.86</td>\n",
       "      <td>994.96</td>\n",
       "      <td>1055.21</td>\n",
       "      <td>996.19</td>\n",
       "    </tr>\n",
       "    <tr>\n",
       "      <th>2000-05</th>\n",
       "      <td>934.10</td>\n",
       "      <td>925.28</td>\n",
       "      <td>961.23</td>\n",
       "      <td>1009.74</td>\n",
       "      <td>969.39</td>\n",
       "    </tr>\n",
       "    <tr>\n",
       "      <th>...</th>\n",
       "      <td>...</td>\n",
       "      <td>...</td>\n",
       "      <td>...</td>\n",
       "      <td>...</td>\n",
       "      <td>...</td>\n",
       "    </tr>\n",
       "    <tr>\n",
       "      <th>2021-08</th>\n",
       "      <td>8995.51</td>\n",
       "      <td>8099.69</td>\n",
       "      <td>7949.11</td>\n",
       "      <td>8812.57</td>\n",
       "      <td>4678.25</td>\n",
       "    </tr>\n",
       "    <tr>\n",
       "      <th>2021-09</th>\n",
       "      <td>8758.02</td>\n",
       "      <td>7851.84</td>\n",
       "      <td>7720.17</td>\n",
       "      <td>8494.44</td>\n",
       "      <td>4461.18</td>\n",
       "    </tr>\n",
       "    <tr>\n",
       "      <th>2021-10</th>\n",
       "      <td>8904.28</td>\n",
       "      <td>8094.46</td>\n",
       "      <td>8071.44</td>\n",
       "      <td>8931.90</td>\n",
       "      <td>4780.60</td>\n",
       "    </tr>\n",
       "    <tr>\n",
       "      <th>2021-11</th>\n",
       "      <td>8457.29</td>\n",
       "      <td>7764.20</td>\n",
       "      <td>7712.26</td>\n",
       "      <td>8554.08</td>\n",
       "      <td>4738.05</td>\n",
       "    </tr>\n",
       "    <tr>\n",
       "      <th>2021-12</th>\n",
       "      <td>8453.90</td>\n",
       "      <td>7982.38</td>\n",
       "      <td>7895.81</td>\n",
       "      <td>8861.17</td>\n",
       "      <td>4904.36</td>\n",
       "    </tr>\n",
       "  </tbody>\n",
       "</table>\n",
       "<p>264 rows × 5 columns</p>\n",
       "</div>"
      ],
      "text/plain": [
       "           Lo 20    Qnt 2    Qnt 3    Qnt 4    Hi 20\n",
       "2000-01  1059.20   985.90   960.90   963.00   953.60\n",
       "2000-02  1350.48  1159.52  1076.69  1088.29   941.39\n",
       "2000-03  1209.08  1085.66  1050.31  1123.76  1033.18\n",
       "2000-04  1024.46   986.86   994.96  1055.21   996.19\n",
       "2000-05   934.10   925.28   961.23  1009.74   969.39\n",
       "...          ...      ...      ...      ...      ...\n",
       "2021-08  8995.51  8099.69  7949.11  8812.57  4678.25\n",
       "2021-09  8758.02  7851.84  7720.17  8494.44  4461.18\n",
       "2021-10  8904.28  8094.46  8071.44  8931.90  4780.60\n",
       "2021-11  8457.29  7764.20  7712.26  8554.08  4738.05\n",
       "2021-12  8453.90  7982.38  7895.81  8861.17  4904.36\n",
       "\n",
       "[264 rows x 5 columns]"
      ]
     },
     "execution_count": 54,
     "metadata": {},
     "output_type": "execute_result"
    }
   ],
   "source": [
    "# Creating a wealth index from the quintiles and plotting it\n",
    "\n",
    "wealth_index=1000*(1+quint_data1).cumprod()\n",
    "wealth_index=wealth_index.round(2)\n",
    "wealth_index"
   ]
  },
  {
   "cell_type": "code",
   "execution_count": 55,
   "metadata": {},
   "outputs": [
    {
     "data": {
      "image/png": "[encoded data removed]",
      "text/plain": [
       "<Figure size 864x432 with 1 Axes>"
      ]
     },
     "metadata": {},
     "output_type": "display_data"
    }
   ],
   "source": [
    "wealth_index.plot(figsize=(12,6), title=\"Growth of $1000 from 2000 to 2021\", xlabel=\"Date\",ylabel=\"Wealth\")\n",
    "plt.savefig(\"Wealth_index.png\", dpi=300)"
   ]
  },
  {
   "cell_type": "markdown",
   "metadata": {},
   "source": [
    "#### Size premium using different combination"
   ]
  },
  {
   "cell_type": "code",
   "execution_count": 56,
   "metadata": {},
   "outputs": [
    {
     "data": {
      "text/html": [
       "<div>\n",
       "<style scoped>\n",
       "    .dataframe tbody tr th:only-of-type {\n",
       "        vertical-align: middle;\n",
       "    }\n",
       "\n",
       "    .dataframe tbody tr th {\n",
       "        vertical-align: top;\n",
       "    }\n",
       "\n",
       "    .dataframe thead th {\n",
       "        text-align: right;\n",
       "    }\n",
       "</style>\n",
       "<table border=\"1\" class=\"dataframe\">\n",
       "  <thead>\n",
       "    <tr style=\"text-align: right;\">\n",
       "      <th></th>\n",
       "      <th>&lt;= 0</th>\n",
       "      <th>Lo 30</th>\n",
       "      <th>Med 40</th>\n",
       "      <th>Hi 30</th>\n",
       "      <th>Lo 20</th>\n",
       "      <th>Qnt 2</th>\n",
       "      <th>Qnt 3</th>\n",
       "      <th>Qnt 4</th>\n",
       "      <th>Hi 20</th>\n",
       "      <th>Lo 10</th>\n",
       "      <th>Dec-02</th>\n",
       "      <th>Dec-03</th>\n",
       "      <th>Dec-04</th>\n",
       "      <th>Dec-05</th>\n",
       "      <th>Dec-06</th>\n",
       "      <th>Dec-07</th>\n",
       "      <th>Dec-08</th>\n",
       "      <th>Dec-09</th>\n",
       "      <th>Hi 10</th>\n",
       "    </tr>\n",
       "  </thead>\n",
       "  <tbody>\n",
       "    <tr>\n",
       "      <th>192607</th>\n",
       "      <td>NaN</td>\n",
       "      <td>0.14</td>\n",
       "      <td>1.56</td>\n",
       "      <td>3.41</td>\n",
       "      <td>0.37</td>\n",
       "      <td>0.48</td>\n",
       "      <td>1.76</td>\n",
       "      <td>1.45</td>\n",
       "      <td>3.65</td>\n",
       "      <td>-0.12</td>\n",
       "      <td>0.52</td>\n",
       "      <td>-0.05</td>\n",
       "      <td>0.82</td>\n",
       "      <td>1.42</td>\n",
       "      <td>2.01</td>\n",
       "      <td>1.57</td>\n",
       "      <td>1.38</td>\n",
       "      <td>3.16</td>\n",
       "      <td>3.79</td>\n",
       "    </tr>\n",
       "    <tr>\n",
       "      <th>192608</th>\n",
       "      <td>NaN</td>\n",
       "      <td>3.19</td>\n",
       "      <td>2.74</td>\n",
       "      <td>2.91</td>\n",
       "      <td>2.21</td>\n",
       "      <td>3.58</td>\n",
       "      <td>3.72</td>\n",
       "      <td>1.46</td>\n",
       "      <td>3.07</td>\n",
       "      <td>1.13</td>\n",
       "      <td>2.55</td>\n",
       "      <td>4.00</td>\n",
       "      <td>3.32</td>\n",
       "      <td>2.57</td>\n",
       "      <td>4.56</td>\n",
       "      <td>1.54</td>\n",
       "      <td>1.42</td>\n",
       "      <td>0.86</td>\n",
       "      <td>3.70</td>\n",
       "    </tr>\n",
       "    <tr>\n",
       "      <th>192609</th>\n",
       "      <td>NaN</td>\n",
       "      <td>-1.73</td>\n",
       "      <td>-0.65</td>\n",
       "      <td>0.77</td>\n",
       "      <td>-1.39</td>\n",
       "      <td>-1.25</td>\n",
       "      <td>0.07</td>\n",
       "      <td>-0.15</td>\n",
       "      <td>0.79</td>\n",
       "      <td>0.59</td>\n",
       "      <td>-2.00</td>\n",
       "      <td>-2.01</td>\n",
       "      <td>-0.77</td>\n",
       "      <td>0.00</td>\n",
       "      <td>0.13</td>\n",
       "      <td>-1.39</td>\n",
       "      <td>0.57</td>\n",
       "      <td>-0.90</td>\n",
       "      <td>1.25</td>\n",
       "    </tr>\n",
       "    <tr>\n",
       "      <th>192610</th>\n",
       "      <td>NaN</td>\n",
       "      <td>-2.94</td>\n",
       "      <td>-3.25</td>\n",
       "      <td>-2.79</td>\n",
       "      <td>-2.56</td>\n",
       "      <td>-3.99</td>\n",
       "      <td>-2.71</td>\n",
       "      <td>-3.33</td>\n",
       "      <td>-2.74</td>\n",
       "      <td>-4.29</td>\n",
       "      <td>-2.01</td>\n",
       "      <td>-3.25</td>\n",
       "      <td>-4.45</td>\n",
       "      <td>-3.16</td>\n",
       "      <td>-2.39</td>\n",
       "      <td>-3.44</td>\n",
       "      <td>-3.26</td>\n",
       "      <td>-3.50</td>\n",
       "      <td>-2.54</td>\n",
       "    </tr>\n",
       "    <tr>\n",
       "      <th>192611</th>\n",
       "      <td>NaN</td>\n",
       "      <td>-0.38</td>\n",
       "      <td>3.70</td>\n",
       "      <td>2.75</td>\n",
       "      <td>-0.95</td>\n",
       "      <td>3.03</td>\n",
       "      <td>3.49</td>\n",
       "      <td>3.29</td>\n",
       "      <td>2.70</td>\n",
       "      <td>-3.28</td>\n",
       "      <td>-0.23</td>\n",
       "      <td>0.08</td>\n",
       "      <td>4.90</td>\n",
       "      <td>3.61</td>\n",
       "      <td>3.41</td>\n",
       "      <td>3.55</td>\n",
       "      <td>3.14</td>\n",
       "      <td>3.89</td>\n",
       "      <td>2.39</td>\n",
       "    </tr>\n",
       "  </tbody>\n",
       "</table>\n",
       "</div>"
      ],
      "text/plain": [
       "        <= 0  Lo 30  Med 40  Hi 30  Lo 20  Qnt 2  Qnt 3  Qnt 4  Hi 20  Lo 10  \\\n",
       "192607   NaN   0.14    1.56   3.41   0.37   0.48   1.76   1.45   3.65  -0.12   \n",
       "192608   NaN   3.19    2.74   2.91   2.21   3.58   3.72   1.46   3.07   1.13   \n",
       "192609   NaN  -1.73   -0.65   0.77  -1.39  -1.25   0.07  -0.15   0.79   0.59   \n",
       "192610   NaN  -2.94   -3.25  -2.79  -2.56  -3.99  -2.71  -3.33  -2.74  -4.29   \n",
       "192611   NaN  -0.38    3.70   2.75  -0.95   3.03   3.49   3.29   2.70  -3.28   \n",
       "\n",
       "        Dec-02  Dec-03  Dec-04  Dec-05  Dec-06  Dec-07  Dec-08  Dec-09  Hi 10  \n",
       "192607    0.52   -0.05    0.82    1.42    2.01    1.57    1.38    3.16   3.79  \n",
       "192608    2.55    4.00    3.32    2.57    4.56    1.54    1.42    0.86   3.70  \n",
       "192609   -2.00   -2.01   -0.77    0.00    0.13   -1.39    0.57   -0.90   1.25  \n",
       "192610   -2.01   -3.25   -4.45   -3.16   -2.39   -3.44   -3.26   -3.50  -2.54  \n",
       "192611   -0.23    0.08    4.90    3.61    3.41    3.55    3.14    3.89   2.39  "
      ]
     },
     "execution_count": 56,
     "metadata": {},
     "output_type": "execute_result"
    }
   ],
   "source": [
    "ff_port.head()"
   ]
  },
  {
   "cell_type": "code",
   "execution_count": 57,
   "metadata": {},
   "outputs": [
    {
     "data": {
      "text/html": [
       "<div>\n",
       "<style scoped>\n",
       "    .dataframe tbody tr th:only-of-type {\n",
       "        vertical-align: middle;\n",
       "    }\n",
       "\n",
       "    .dataframe tbody tr th {\n",
       "        vertical-align: top;\n",
       "    }\n",
       "\n",
       "    .dataframe thead th {\n",
       "        text-align: right;\n",
       "    }\n",
       "</style>\n",
       "<table border=\"1\" class=\"dataframe\">\n",
       "  <thead>\n",
       "    <tr style=\"text-align: right;\">\n",
       "      <th></th>\n",
       "      <th>Lo 10</th>\n",
       "      <th>Dec-02</th>\n",
       "      <th>Dec-03</th>\n",
       "      <th>Dec-04</th>\n",
       "      <th>Dec-05</th>\n",
       "      <th>Dec-06</th>\n",
       "      <th>Dec-07</th>\n",
       "      <th>Dec-08</th>\n",
       "      <th>Dec-09</th>\n",
       "      <th>Hi 10</th>\n",
       "    </tr>\n",
       "  </thead>\n",
       "  <tbody>\n",
       "    <tr>\n",
       "      <th>192607</th>\n",
       "      <td>-0.0012</td>\n",
       "      <td>0.0052</td>\n",
       "      <td>-0.0005</td>\n",
       "      <td>0.0082</td>\n",
       "      <td>0.0142</td>\n",
       "      <td>0.0201</td>\n",
       "      <td>0.0157</td>\n",
       "      <td>0.0138</td>\n",
       "      <td>0.0316</td>\n",
       "      <td>0.0379</td>\n",
       "    </tr>\n",
       "    <tr>\n",
       "      <th>192608</th>\n",
       "      <td>0.0113</td>\n",
       "      <td>0.0255</td>\n",
       "      <td>0.0400</td>\n",
       "      <td>0.0332</td>\n",
       "      <td>0.0257</td>\n",
       "      <td>0.0456</td>\n",
       "      <td>0.0154</td>\n",
       "      <td>0.0142</td>\n",
       "      <td>0.0086</td>\n",
       "      <td>0.0370</td>\n",
       "    </tr>\n",
       "    <tr>\n",
       "      <th>192609</th>\n",
       "      <td>0.0059</td>\n",
       "      <td>-0.0200</td>\n",
       "      <td>-0.0201</td>\n",
       "      <td>-0.0077</td>\n",
       "      <td>0.0000</td>\n",
       "      <td>0.0013</td>\n",
       "      <td>-0.0139</td>\n",
       "      <td>0.0057</td>\n",
       "      <td>-0.0090</td>\n",
       "      <td>0.0125</td>\n",
       "    </tr>\n",
       "    <tr>\n",
       "      <th>192610</th>\n",
       "      <td>-0.0429</td>\n",
       "      <td>-0.0201</td>\n",
       "      <td>-0.0325</td>\n",
       "      <td>-0.0445</td>\n",
       "      <td>-0.0316</td>\n",
       "      <td>-0.0239</td>\n",
       "      <td>-0.0344</td>\n",
       "      <td>-0.0326</td>\n",
       "      <td>-0.0350</td>\n",
       "      <td>-0.0254</td>\n",
       "    </tr>\n",
       "    <tr>\n",
       "      <th>192611</th>\n",
       "      <td>-0.0328</td>\n",
       "      <td>-0.0023</td>\n",
       "      <td>0.0008</td>\n",
       "      <td>0.0490</td>\n",
       "      <td>0.0361</td>\n",
       "      <td>0.0341</td>\n",
       "      <td>0.0355</td>\n",
       "      <td>0.0314</td>\n",
       "      <td>0.0389</td>\n",
       "      <td>0.0239</td>\n",
       "    </tr>\n",
       "    <tr>\n",
       "      <th>...</th>\n",
       "      <td>...</td>\n",
       "      <td>...</td>\n",
       "      <td>...</td>\n",
       "      <td>...</td>\n",
       "      <td>...</td>\n",
       "      <td>...</td>\n",
       "      <td>...</td>\n",
       "      <td>...</td>\n",
       "      <td>...</td>\n",
       "      <td>...</td>\n",
       "    </tr>\n",
       "    <tr>\n",
       "      <th>202108</th>\n",
       "      <td>0.0277</td>\n",
       "      <td>0.0344</td>\n",
       "      <td>0.0183</td>\n",
       "      <td>0.0209</td>\n",
       "      <td>0.0165</td>\n",
       "      <td>0.0203</td>\n",
       "      <td>0.0195</td>\n",
       "      <td>0.0314</td>\n",
       "      <td>0.0321</td>\n",
       "      <td>0.0299</td>\n",
       "    </tr>\n",
       "    <tr>\n",
       "      <th>202109</th>\n",
       "      <td>-0.0252</td>\n",
       "      <td>-0.0274</td>\n",
       "      <td>-0.0258</td>\n",
       "      <td>-0.0345</td>\n",
       "      <td>-0.0328</td>\n",
       "      <td>-0.0262</td>\n",
       "      <td>-0.0297</td>\n",
       "      <td>-0.0398</td>\n",
       "      <td>-0.0404</td>\n",
       "      <td>-0.0474</td>\n",
       "    </tr>\n",
       "    <tr>\n",
       "      <th>202110</th>\n",
       "      <td>0.0085</td>\n",
       "      <td>0.0235</td>\n",
       "      <td>0.0290</td>\n",
       "      <td>0.0324</td>\n",
       "      <td>0.0502</td>\n",
       "      <td>0.0425</td>\n",
       "      <td>0.0554</td>\n",
       "      <td>0.0493</td>\n",
       "      <td>0.0726</td>\n",
       "      <td>0.0714</td>\n",
       "    </tr>\n",
       "    <tr>\n",
       "      <th>202111</th>\n",
       "      <td>-0.0556</td>\n",
       "      <td>-0.0456</td>\n",
       "      <td>-0.0622</td>\n",
       "      <td>-0.0233</td>\n",
       "      <td>-0.0398</td>\n",
       "      <td>-0.0475</td>\n",
       "      <td>-0.0617</td>\n",
       "      <td>-0.0312</td>\n",
       "      <td>-0.0234</td>\n",
       "      <td>-0.0065</td>\n",
       "    </tr>\n",
       "    <tr>\n",
       "      <th>202112</th>\n",
       "      <td>-0.0192</td>\n",
       "      <td>0.0152</td>\n",
       "      <td>0.0272</td>\n",
       "      <td>0.0288</td>\n",
       "      <td>0.0287</td>\n",
       "      <td>0.0206</td>\n",
       "      <td>0.0375</td>\n",
       "      <td>0.0350</td>\n",
       "      <td>0.0385</td>\n",
       "      <td>0.0346</td>\n",
       "    </tr>\n",
       "  </tbody>\n",
       "</table>\n",
       "<p>1146 rows × 10 columns</p>\n",
       "</div>"
      ],
      "text/plain": [
       "         Lo 10  Dec-02  Dec-03  Dec-04  Dec-05  Dec-06  Dec-07  Dec-08  \\\n",
       "192607 -0.0012  0.0052 -0.0005  0.0082  0.0142  0.0201  0.0157  0.0138   \n",
       "192608  0.0113  0.0255  0.0400  0.0332  0.0257  0.0456  0.0154  0.0142   \n",
       "192609  0.0059 -0.0200 -0.0201 -0.0077  0.0000  0.0013 -0.0139  0.0057   \n",
       "192610 -0.0429 -0.0201 -0.0325 -0.0445 -0.0316 -0.0239 -0.0344 -0.0326   \n",
       "192611 -0.0328 -0.0023  0.0008  0.0490  0.0361  0.0341  0.0355  0.0314   \n",
       "...        ...     ...     ...     ...     ...     ...     ...     ...   \n",
       "202108  0.0277  0.0344  0.0183  0.0209  0.0165  0.0203  0.0195  0.0314   \n",
       "202109 -0.0252 -0.0274 -0.0258 -0.0345 -0.0328 -0.0262 -0.0297 -0.0398   \n",
       "202110  0.0085  0.0235  0.0290  0.0324  0.0502  0.0425  0.0554  0.0493   \n",
       "202111 -0.0556 -0.0456 -0.0622 -0.0233 -0.0398 -0.0475 -0.0617 -0.0312   \n",
       "202112 -0.0192  0.0152  0.0272  0.0288  0.0287  0.0206  0.0375  0.0350   \n",
       "\n",
       "        Dec-09   Hi 10  \n",
       "192607  0.0316  0.0379  \n",
       "192608  0.0086  0.0370  \n",
       "192609 -0.0090  0.0125  \n",
       "192610 -0.0350 -0.0254  \n",
       "192611  0.0389  0.0239  \n",
       "...        ...     ...  \n",
       "202108  0.0321  0.0299  \n",
       "202109 -0.0404 -0.0474  \n",
       "202110  0.0726  0.0714  \n",
       "202111 -0.0234 -0.0065  \n",
       "202112  0.0385  0.0346  \n",
       "\n",
       "[1146 rows x 10 columns]"
      ]
     },
     "execution_count": 57,
     "metadata": {},
     "output_type": "execute_result"
    }
   ],
   "source": [
    "decile_data= (ff_port.iloc[0:,9:])/100 #Subsetting the required columns using iloc\n",
    "decile_data"
   ]
  },
  {
   "cell_type": "code",
   "execution_count": 58,
   "metadata": {},
   "outputs": [
    {
     "data": {
      "text/html": [
       "<div>\n",
       "<style scoped>\n",
       "    .dataframe tbody tr th:only-of-type {\n",
       "        vertical-align: middle;\n",
       "    }\n",
       "\n",
       "    .dataframe tbody tr th {\n",
       "        vertical-align: top;\n",
       "    }\n",
       "\n",
       "    .dataframe thead th {\n",
       "        text-align: right;\n",
       "    }\n",
       "</style>\n",
       "<table border=\"1\" class=\"dataframe\">\n",
       "  <thead>\n",
       "    <tr style=\"text-align: right;\">\n",
       "      <th></th>\n",
       "      <th>Lo 10</th>\n",
       "      <th>Dec-02</th>\n",
       "      <th>Dec-03</th>\n",
       "      <th>Dec-04</th>\n",
       "      <th>Dec-05</th>\n",
       "      <th>Dec-06</th>\n",
       "      <th>Dec-07</th>\n",
       "      <th>Dec-08</th>\n",
       "      <th>Dec-09</th>\n",
       "      <th>Hi 10</th>\n",
       "    </tr>\n",
       "  </thead>\n",
       "  <tbody>\n",
       "    <tr>\n",
       "      <th>1926-07</th>\n",
       "      <td>-0.0012</td>\n",
       "      <td>0.0052</td>\n",
       "      <td>-0.0005</td>\n",
       "      <td>0.0082</td>\n",
       "      <td>0.0142</td>\n",
       "      <td>0.0201</td>\n",
       "      <td>0.0157</td>\n",
       "      <td>0.0138</td>\n",
       "      <td>0.0316</td>\n",
       "      <td>0.0379</td>\n",
       "    </tr>\n",
       "    <tr>\n",
       "      <th>1926-08</th>\n",
       "      <td>0.0113</td>\n",
       "      <td>0.0255</td>\n",
       "      <td>0.0400</td>\n",
       "      <td>0.0332</td>\n",
       "      <td>0.0257</td>\n",
       "      <td>0.0456</td>\n",
       "      <td>0.0154</td>\n",
       "      <td>0.0142</td>\n",
       "      <td>0.0086</td>\n",
       "      <td>0.0370</td>\n",
       "    </tr>\n",
       "    <tr>\n",
       "      <th>1926-09</th>\n",
       "      <td>0.0059</td>\n",
       "      <td>-0.0200</td>\n",
       "      <td>-0.0201</td>\n",
       "      <td>-0.0077</td>\n",
       "      <td>0.0000</td>\n",
       "      <td>0.0013</td>\n",
       "      <td>-0.0139</td>\n",
       "      <td>0.0057</td>\n",
       "      <td>-0.0090</td>\n",
       "      <td>0.0125</td>\n",
       "    </tr>\n",
       "    <tr>\n",
       "      <th>1926-10</th>\n",
       "      <td>-0.0429</td>\n",
       "      <td>-0.0201</td>\n",
       "      <td>-0.0325</td>\n",
       "      <td>-0.0445</td>\n",
       "      <td>-0.0316</td>\n",
       "      <td>-0.0239</td>\n",
       "      <td>-0.0344</td>\n",
       "      <td>-0.0326</td>\n",
       "      <td>-0.0350</td>\n",
       "      <td>-0.0254</td>\n",
       "    </tr>\n",
       "    <tr>\n",
       "      <th>1926-11</th>\n",
       "      <td>-0.0328</td>\n",
       "      <td>-0.0023</td>\n",
       "      <td>0.0008</td>\n",
       "      <td>0.0490</td>\n",
       "      <td>0.0361</td>\n",
       "      <td>0.0341</td>\n",
       "      <td>0.0355</td>\n",
       "      <td>0.0314</td>\n",
       "      <td>0.0389</td>\n",
       "      <td>0.0239</td>\n",
       "    </tr>\n",
       "  </tbody>\n",
       "</table>\n",
       "</div>"
      ],
      "text/plain": [
       "          Lo 10  Dec-02  Dec-03  Dec-04  Dec-05  Dec-06  Dec-07  Dec-08  \\\n",
       "1926-07 -0.0012  0.0052 -0.0005  0.0082  0.0142  0.0201  0.0157  0.0138   \n",
       "1926-08  0.0113  0.0255  0.0400  0.0332  0.0257  0.0456  0.0154  0.0142   \n",
       "1926-09  0.0059 -0.0200 -0.0201 -0.0077  0.0000  0.0013 -0.0139  0.0057   \n",
       "1926-10 -0.0429 -0.0201 -0.0325 -0.0445 -0.0316 -0.0239 -0.0344 -0.0326   \n",
       "1926-11 -0.0328 -0.0023  0.0008  0.0490  0.0361  0.0341  0.0355  0.0314   \n",
       "\n",
       "         Dec-09   Hi 10  \n",
       "1926-07  0.0316  0.0379  \n",
       "1926-08  0.0086  0.0370  \n",
       "1926-09 -0.0090  0.0125  \n",
       "1926-10 -0.0350 -0.0254  \n",
       "1926-11  0.0389  0.0239  "
      ]
     },
     "execution_count": 58,
     "metadata": {},
     "output_type": "execute_result"
    }
   ],
   "source": [
    "decile_data.index=pd.to_datetime(decile_data.index, format=\"%Y%m\").to_period(\"M\")\n",
    "decile_data.head()"
   ]
  },
  {
   "cell_type": "code",
   "execution_count": 59,
   "metadata": {},
   "outputs": [
    {
     "data": {
      "text/html": [
       "<div>\n",
       "<style scoped>\n",
       "    .dataframe tbody tr th:only-of-type {\n",
       "        vertical-align: middle;\n",
       "    }\n",
       "\n",
       "    .dataframe tbody tr th {\n",
       "        vertical-align: top;\n",
       "    }\n",
       "\n",
       "    .dataframe thead th {\n",
       "        text-align: right;\n",
       "    }\n",
       "</style>\n",
       "<table border=\"1\" class=\"dataframe\">\n",
       "  <thead>\n",
       "    <tr style=\"text-align: right;\">\n",
       "      <th></th>\n",
       "      <th>Lo 10</th>\n",
       "      <th>Dec-02</th>\n",
       "      <th>Dec-03</th>\n",
       "      <th>Dec-04</th>\n",
       "      <th>Dec-05</th>\n",
       "      <th>Dec-06</th>\n",
       "      <th>Dec-07</th>\n",
       "      <th>Dec-08</th>\n",
       "      <th>Dec-09</th>\n",
       "      <th>Hi 10</th>\n",
       "    </tr>\n",
       "  </thead>\n",
       "  <tbody>\n",
       "    <tr>\n",
       "      <th>2000-01</th>\n",
       "      <td>0.1054</td>\n",
       "      <td>0.0182</td>\n",
       "      <td>0.0079</td>\n",
       "      <td>-0.0326</td>\n",
       "      <td>-0.0404</td>\n",
       "      <td>-0.0381</td>\n",
       "      <td>-0.0350</td>\n",
       "      <td>-0.0382</td>\n",
       "      <td>-0.0324</td>\n",
       "      <td>-0.0485</td>\n",
       "    </tr>\n",
       "    <tr>\n",
       "      <th>2000-02</th>\n",
       "      <td>0.2931</td>\n",
       "      <td>0.2575</td>\n",
       "      <td>0.1840</td>\n",
       "      <td>0.1692</td>\n",
       "      <td>0.1475</td>\n",
       "      <td>0.0988</td>\n",
       "      <td>0.1350</td>\n",
       "      <td>0.1272</td>\n",
       "      <td>0.0674</td>\n",
       "      <td>-0.0255</td>\n",
       "    </tr>\n",
       "    <tr>\n",
       "      <th>2000-03</th>\n",
       "      <td>-0.1039</td>\n",
       "      <td>-0.1056</td>\n",
       "      <td>-0.0602</td>\n",
       "      <td>-0.0668</td>\n",
       "      <td>-0.0720</td>\n",
       "      <td>0.0153</td>\n",
       "      <td>0.0309</td>\n",
       "      <td>0.0336</td>\n",
       "      <td>0.0550</td>\n",
       "      <td>0.1049</td>\n",
       "    </tr>\n",
       "    <tr>\n",
       "      <th>2000-04</th>\n",
       "      <td>-0.1809</td>\n",
       "      <td>-0.1240</td>\n",
       "      <td>-0.1197</td>\n",
       "      <td>-0.0651</td>\n",
       "      <td>-0.0508</td>\n",
       "      <td>-0.0542</td>\n",
       "      <td>-0.0580</td>\n",
       "      <td>-0.0628</td>\n",
       "      <td>-0.0458</td>\n",
       "      <td>-0.0341</td>\n",
       "    </tr>\n",
       "    <tr>\n",
       "      <th>2000-05</th>\n",
       "      <td>-0.1027</td>\n",
       "      <td>-0.0746</td>\n",
       "      <td>-0.0841</td>\n",
       "      <td>-0.0438</td>\n",
       "      <td>-0.0329</td>\n",
       "      <td>-0.0347</td>\n",
       "      <td>-0.0530</td>\n",
       "      <td>-0.0374</td>\n",
       "      <td>-0.0303</td>\n",
       "      <td>-0.0263</td>\n",
       "    </tr>\n",
       "  </tbody>\n",
       "</table>\n",
       "</div>"
      ],
      "text/plain": [
       "          Lo 10  Dec-02  Dec-03  Dec-04  Dec-05  Dec-06  Dec-07  Dec-08  \\\n",
       "2000-01  0.1054  0.0182  0.0079 -0.0326 -0.0404 -0.0381 -0.0350 -0.0382   \n",
       "2000-02  0.2931  0.2575  0.1840  0.1692  0.1475  0.0988  0.1350  0.1272   \n",
       "2000-03 -0.1039 -0.1056 -0.0602 -0.0668 -0.0720  0.0153  0.0309  0.0336   \n",
       "2000-04 -0.1809 -0.1240 -0.1197 -0.0651 -0.0508 -0.0542 -0.0580 -0.0628   \n",
       "2000-05 -0.1027 -0.0746 -0.0841 -0.0438 -0.0329 -0.0347 -0.0530 -0.0374   \n",
       "\n",
       "         Dec-09   Hi 10  \n",
       "2000-01 -0.0324 -0.0485  \n",
       "2000-02  0.0674 -0.0255  \n",
       "2000-03  0.0550  0.1049  \n",
       "2000-04 -0.0458 -0.0341  \n",
       "2000-05 -0.0303 -0.0263  "
      ]
     },
     "execution_count": 59,
     "metadata": {},
     "output_type": "execute_result"
    }
   ],
   "source": [
    "decile_data=decile_data[\"2000\":\"2021\"] #Slicing from the full sample\n",
    "decile_data.head()"
   ]
  },
  {
   "cell_type": "markdown",
   "metadata": {},
   "source": [
    "################################################   50/50 PORTFOLIO  #########################################################"
   ]
  },
  {
   "cell_type": "code",
   "execution_count": 60,
   "metadata": {},
   "outputs": [],
   "source": [
    "lower_half=decile_data.iloc[:, 0:5] # slicing the required columns for lower half data"
   ]
  },
  {
   "cell_type": "code",
   "execution_count": 61,
   "metadata": {},
   "outputs": [],
   "source": [
    "upper_half=decile_data.iloc[:,5:10] # slicing the required columns for upper half data"
   ]
  },
  {
   "cell_type": "code",
   "execution_count": 62,
   "metadata": {},
   "outputs": [],
   "source": [
    "avg_rets_lower50=lower_half.sum(axis=1)/5 #Summing all the 5 columns in lower half and averaging them out"
   ]
  },
  {
   "cell_type": "code",
   "execution_count": 63,
   "metadata": {},
   "outputs": [],
   "source": [
    "avg_rets_upper50=upper_half.sum(axis=1)/5 #Summing all the 5 columns in upper half and averaging them out"
   ]
  },
  {
   "cell_type": "code",
   "execution_count": 64,
   "metadata": {},
   "outputs": [],
   "source": [
    "long_short50=avg_rets_lower50- avg_rets_upper50"
   ]
  },
  {
   "cell_type": "code",
   "execution_count": 65,
   "metadata": {},
   "outputs": [
    {
     "data": {
      "text/html": [
       "<div>\n",
       "<style scoped>\n",
       "    .dataframe tbody tr th:only-of-type {\n",
       "        vertical-align: middle;\n",
       "    }\n",
       "\n",
       "    .dataframe tbody tr th {\n",
       "        vertical-align: top;\n",
       "    }\n",
       "\n",
       "    .dataframe thead th {\n",
       "        text-align: right;\n",
       "    }\n",
       "</style>\n",
       "<table border=\"1\" class=\"dataframe\">\n",
       "  <thead>\n",
       "    <tr style=\"text-align: right;\">\n",
       "      <th></th>\n",
       "      <th>Returns size 50/50</th>\n",
       "    </tr>\n",
       "  </thead>\n",
       "  <tbody>\n",
       "    <tr>\n",
       "      <th>2000-01</th>\n",
       "      <td>0.05014</td>\n",
       "    </tr>\n",
       "    <tr>\n",
       "      <th>2000-02</th>\n",
       "      <td>0.12968</td>\n",
       "    </tr>\n",
       "    <tr>\n",
       "      <th>2000-03</th>\n",
       "      <td>-0.12964</td>\n",
       "    </tr>\n",
       "    <tr>\n",
       "      <th>2000-04</th>\n",
       "      <td>-0.05712</td>\n",
       "    </tr>\n",
       "    <tr>\n",
       "      <th>2000-05</th>\n",
       "      <td>-0.03128</td>\n",
       "    </tr>\n",
       "  </tbody>\n",
       "</table>\n",
       "</div>"
      ],
      "text/plain": [
       "         Returns size 50/50\n",
       "2000-01             0.05014\n",
       "2000-02             0.12968\n",
       "2000-03            -0.12964\n",
       "2000-04            -0.05712\n",
       "2000-05            -0.03128"
      ]
     },
     "execution_count": 65,
     "metadata": {},
     "output_type": "execute_result"
    }
   ],
   "source": [
    "long_short50=pd.DataFrame(data=long_short50, columns=[\"Returns size 50/50\"]) \n",
    "long_short50.head() # This is the average monthly returns of the long short portfolio"
   ]
  },
  {
   "cell_type": "code",
   "execution_count": 66,
   "metadata": {},
   "outputs": [],
   "source": [
    "n=long_short50.shape[0]"
   ]
  },
  {
   "cell_type": "code",
   "execution_count": 67,
   "metadata": {},
   "outputs": [
    {
     "data": {
      "text/plain": [
       "Returns size 50/50    0.008498\n",
       "dtype: float64"
      ]
     },
     "execution_count": 67,
     "metadata": {},
     "output_type": "execute_result"
    }
   ],
   "source": [
    "# Annualized returns\n",
    "\n",
    "long_short50_ann=((1+long_short50).prod())**(12/n)-1\n",
    "long_short50_ann"
   ]
  },
  {
   "cell_type": "code",
   "execution_count": 88,
   "metadata": {},
   "outputs": [
    {
     "data": {
      "text/plain": [
       "Ttest_1sampResult(statistic=array([0.64819339]), pvalue=array([0.51742538]))"
      ]
     },
     "execution_count": 88,
     "metadata": {},
     "output_type": "execute_result"
    }
   ],
   "source": [
    "stats.ttest_1samp(long_short50, h0)"
   ]
  },
  {
   "cell_type": "markdown",
   "metadata": {},
   "source": [
    "######################################  30/30 PORTFOLIO   #####################################################################"
   ]
  },
  {
   "cell_type": "code",
   "execution_count": 69,
   "metadata": {},
   "outputs": [
    {
     "data": {
      "text/html": [
       "<div>\n",
       "<style scoped>\n",
       "    .dataframe tbody tr th:only-of-type {\n",
       "        vertical-align: middle;\n",
       "    }\n",
       "\n",
       "    .dataframe tbody tr th {\n",
       "        vertical-align: top;\n",
       "    }\n",
       "\n",
       "    .dataframe thead th {\n",
       "        text-align: right;\n",
       "    }\n",
       "</style>\n",
       "<table border=\"1\" class=\"dataframe\">\n",
       "  <thead>\n",
       "    <tr style=\"text-align: right;\">\n",
       "      <th></th>\n",
       "      <th>&lt;= 0</th>\n",
       "      <th>Lo 30</th>\n",
       "      <th>Med 40</th>\n",
       "      <th>Hi 30</th>\n",
       "      <th>Lo 20</th>\n",
       "      <th>Qnt 2</th>\n",
       "      <th>Qnt 3</th>\n",
       "      <th>Qnt 4</th>\n",
       "      <th>Hi 20</th>\n",
       "      <th>Lo 10</th>\n",
       "      <th>Dec-02</th>\n",
       "      <th>Dec-03</th>\n",
       "      <th>Dec-04</th>\n",
       "      <th>Dec-05</th>\n",
       "      <th>Dec-06</th>\n",
       "      <th>Dec-07</th>\n",
       "      <th>Dec-08</th>\n",
       "      <th>Dec-09</th>\n",
       "      <th>Hi 10</th>\n",
       "    </tr>\n",
       "  </thead>\n",
       "  <tbody>\n",
       "    <tr>\n",
       "      <th>1926-07</th>\n",
       "      <td>NaN</td>\n",
       "      <td>0.14</td>\n",
       "      <td>1.56</td>\n",
       "      <td>3.41</td>\n",
       "      <td>0.37</td>\n",
       "      <td>0.48</td>\n",
       "      <td>1.76</td>\n",
       "      <td>1.45</td>\n",
       "      <td>3.65</td>\n",
       "      <td>-0.12</td>\n",
       "      <td>0.52</td>\n",
       "      <td>-0.05</td>\n",
       "      <td>0.82</td>\n",
       "      <td>1.42</td>\n",
       "      <td>2.01</td>\n",
       "      <td>1.57</td>\n",
       "      <td>1.38</td>\n",
       "      <td>3.16</td>\n",
       "      <td>3.79</td>\n",
       "    </tr>\n",
       "    <tr>\n",
       "      <th>1926-08</th>\n",
       "      <td>NaN</td>\n",
       "      <td>3.19</td>\n",
       "      <td>2.74</td>\n",
       "      <td>2.91</td>\n",
       "      <td>2.21</td>\n",
       "      <td>3.58</td>\n",
       "      <td>3.72</td>\n",
       "      <td>1.46</td>\n",
       "      <td>3.07</td>\n",
       "      <td>1.13</td>\n",
       "      <td>2.55</td>\n",
       "      <td>4.00</td>\n",
       "      <td>3.32</td>\n",
       "      <td>2.57</td>\n",
       "      <td>4.56</td>\n",
       "      <td>1.54</td>\n",
       "      <td>1.42</td>\n",
       "      <td>0.86</td>\n",
       "      <td>3.70</td>\n",
       "    </tr>\n",
       "    <tr>\n",
       "      <th>1926-09</th>\n",
       "      <td>NaN</td>\n",
       "      <td>-1.73</td>\n",
       "      <td>-0.65</td>\n",
       "      <td>0.77</td>\n",
       "      <td>-1.39</td>\n",
       "      <td>-1.25</td>\n",
       "      <td>0.07</td>\n",
       "      <td>-0.15</td>\n",
       "      <td>0.79</td>\n",
       "      <td>0.59</td>\n",
       "      <td>-2.00</td>\n",
       "      <td>-2.01</td>\n",
       "      <td>-0.77</td>\n",
       "      <td>0.00</td>\n",
       "      <td>0.13</td>\n",
       "      <td>-1.39</td>\n",
       "      <td>0.57</td>\n",
       "      <td>-0.90</td>\n",
       "      <td>1.25</td>\n",
       "    </tr>\n",
       "    <tr>\n",
       "      <th>1926-10</th>\n",
       "      <td>NaN</td>\n",
       "      <td>-2.94</td>\n",
       "      <td>-3.25</td>\n",
       "      <td>-2.79</td>\n",
       "      <td>-2.56</td>\n",
       "      <td>-3.99</td>\n",
       "      <td>-2.71</td>\n",
       "      <td>-3.33</td>\n",
       "      <td>-2.74</td>\n",
       "      <td>-4.29</td>\n",
       "      <td>-2.01</td>\n",
       "      <td>-3.25</td>\n",
       "      <td>-4.45</td>\n",
       "      <td>-3.16</td>\n",
       "      <td>-2.39</td>\n",
       "      <td>-3.44</td>\n",
       "      <td>-3.26</td>\n",
       "      <td>-3.50</td>\n",
       "      <td>-2.54</td>\n",
       "    </tr>\n",
       "    <tr>\n",
       "      <th>1926-11</th>\n",
       "      <td>NaN</td>\n",
       "      <td>-0.38</td>\n",
       "      <td>3.70</td>\n",
       "      <td>2.75</td>\n",
       "      <td>-0.95</td>\n",
       "      <td>3.03</td>\n",
       "      <td>3.49</td>\n",
       "      <td>3.29</td>\n",
       "      <td>2.70</td>\n",
       "      <td>-3.28</td>\n",
       "      <td>-0.23</td>\n",
       "      <td>0.08</td>\n",
       "      <td>4.90</td>\n",
       "      <td>3.61</td>\n",
       "      <td>3.41</td>\n",
       "      <td>3.55</td>\n",
       "      <td>3.14</td>\n",
       "      <td>3.89</td>\n",
       "      <td>2.39</td>\n",
       "    </tr>\n",
       "  </tbody>\n",
       "</table>\n",
       "</div>"
      ],
      "text/plain": [
       "         <= 0  Lo 30  Med 40  Hi 30  Lo 20  Qnt 2  Qnt 3  Qnt 4  Hi 20  Lo 10  \\\n",
       "1926-07   NaN   0.14    1.56   3.41   0.37   0.48   1.76   1.45   3.65  -0.12   \n",
       "1926-08   NaN   3.19    2.74   2.91   2.21   3.58   3.72   1.46   3.07   1.13   \n",
       "1926-09   NaN  -1.73   -0.65   0.77  -1.39  -1.25   0.07  -0.15   0.79   0.59   \n",
       "1926-10   NaN  -2.94   -3.25  -2.79  -2.56  -3.99  -2.71  -3.33  -2.74  -4.29   \n",
       "1926-11   NaN  -0.38    3.70   2.75  -0.95   3.03   3.49   3.29   2.70  -3.28   \n",
       "\n",
       "         Dec-02  Dec-03  Dec-04  Dec-05  Dec-06  Dec-07  Dec-08  Dec-09  Hi 10  \n",
       "1926-07    0.52   -0.05    0.82    1.42    2.01    1.57    1.38    3.16   3.79  \n",
       "1926-08    2.55    4.00    3.32    2.57    4.56    1.54    1.42    0.86   3.70  \n",
       "1926-09   -2.00   -2.01   -0.77    0.00    0.13   -1.39    0.57   -0.90   1.25  \n",
       "1926-10   -2.01   -3.25   -4.45   -3.16   -2.39   -3.44   -3.26   -3.50  -2.54  \n",
       "1926-11   -0.23    0.08    4.90    3.61    3.41    3.55    3.14    3.89   2.39  "
      ]
     },
     "execution_count": 69,
     "metadata": {},
     "output_type": "execute_result"
    }
   ],
   "source": [
    "ff_port.index=pd.to_datetime(ff_port.index, format=\"%Y%m\").to_period(\"M\")\n",
    "ff_port.head()"
   ]
  },
  {
   "cell_type": "code",
   "execution_count": 70,
   "metadata": {},
   "outputs": [
    {
     "data": {
      "text/html": [
       "<div>\n",
       "<style scoped>\n",
       "    .dataframe tbody tr th:only-of-type {\n",
       "        vertical-align: middle;\n",
       "    }\n",
       "\n",
       "    .dataframe tbody tr th {\n",
       "        vertical-align: top;\n",
       "    }\n",
       "\n",
       "    .dataframe thead th {\n",
       "        text-align: right;\n",
       "    }\n",
       "</style>\n",
       "<table border=\"1\" class=\"dataframe\">\n",
       "  <thead>\n",
       "    <tr style=\"text-align: right;\">\n",
       "      <th></th>\n",
       "      <th>Returns size 30/30</th>\n",
       "    </tr>\n",
       "  </thead>\n",
       "  <tbody>\n",
       "    <tr>\n",
       "      <th>2000-01</th>\n",
       "      <td>0.0847</td>\n",
       "    </tr>\n",
       "    <tr>\n",
       "      <th>2000-02</th>\n",
       "      <td>0.2428</td>\n",
       "    </tr>\n",
       "    <tr>\n",
       "      <th>2000-03</th>\n",
       "      <td>-0.1808</td>\n",
       "    </tr>\n",
       "    <tr>\n",
       "      <th>2000-04</th>\n",
       "      <td>-0.1023</td>\n",
       "    </tr>\n",
       "    <tr>\n",
       "      <th>2000-05</th>\n",
       "      <td>-0.0589</td>\n",
       "    </tr>\n",
       "  </tbody>\n",
       "</table>\n",
       "</div>"
      ],
      "text/plain": [
       "         Returns size 30/30\n",
       "2000-01              0.0847\n",
       "2000-02              0.2428\n",
       "2000-03             -0.1808\n",
       "2000-04             -0.1023\n",
       "2000-05             -0.0589"
      ]
     },
     "execution_count": 70,
     "metadata": {},
     "output_type": "execute_result"
    }
   ],
   "source": [
    "lower30=(ff_port.iloc[:,1])/100\n",
    "upper30=(ff_port.iloc[:,3])/100\n",
    "long_short30=lower30-upper30\n",
    "long_short30=pd.DataFrame(long_short30, columns=[\"Returns size 30/30\"])\n",
    "long_short30=long_short30[\"2000\":\"2021\"]\n",
    "long_short30.head()"
   ]
  },
  {
   "cell_type": "code",
   "execution_count": 71,
   "metadata": {},
   "outputs": [
    {
     "data": {
      "text/plain": [
       "Returns size 30/30    0.028747\n",
       "dtype: float64"
      ]
     },
     "execution_count": 71,
     "metadata": {},
     "output_type": "execute_result"
    }
   ],
   "source": [
    "long_short30_ann=((1+long_short30).prod())**(12/n)-1 # Annualizing\n",
    "long_short30_ann"
   ]
  },
  {
   "cell_type": "code",
   "execution_count": 87,
   "metadata": {},
   "outputs": [
    {
     "data": {
      "text/plain": [
       "Ttest_1sampResult(statistic=array([1.25838983]), pvalue=array([0.20936678]))"
      ]
     },
     "execution_count": 87,
     "metadata": {},
     "output_type": "execute_result"
    }
   ],
   "source": [
    "stats.ttest_1samp(long_short30, h0)"
   ]
  },
  {
   "cell_type": "code",
   "execution_count": null,
   "metadata": {},
   "outputs": [],
   "source": []
  },
  {
   "cell_type": "markdown",
   "metadata": {},
   "source": [
    "######################################  20/20 PORTFOLIO   #####################################################################"
   ]
  },
  {
   "cell_type": "code",
   "execution_count": 72,
   "metadata": {},
   "outputs": [
    {
     "data": {
      "text/html": [
       "<div>\n",
       "<style scoped>\n",
       "    .dataframe tbody tr th:only-of-type {\n",
       "        vertical-align: middle;\n",
       "    }\n",
       "\n",
       "    .dataframe tbody tr th {\n",
       "        vertical-align: top;\n",
       "    }\n",
       "\n",
       "    .dataframe thead th {\n",
       "        text-align: right;\n",
       "    }\n",
       "</style>\n",
       "<table border=\"1\" class=\"dataframe\">\n",
       "  <thead>\n",
       "    <tr style=\"text-align: right;\">\n",
       "      <th></th>\n",
       "      <th>Returns size 20/20</th>\n",
       "    </tr>\n",
       "  </thead>\n",
       "  <tbody>\n",
       "    <tr>\n",
       "      <th>2000-01</th>\n",
       "      <td>0.1056</td>\n",
       "    </tr>\n",
       "    <tr>\n",
       "      <th>2000-02</th>\n",
       "      <td>0.2878</td>\n",
       "    </tr>\n",
       "    <tr>\n",
       "      <th>2000-03</th>\n",
       "      <td>-0.2022</td>\n",
       "    </tr>\n",
       "    <tr>\n",
       "      <th>2000-04</th>\n",
       "      <td>-0.1169</td>\n",
       "    </tr>\n",
       "    <tr>\n",
       "      <th>2000-05</th>\n",
       "      <td>-0.0613</td>\n",
       "    </tr>\n",
       "  </tbody>\n",
       "</table>\n",
       "</div>"
      ],
      "text/plain": [
       "         Returns size 20/20\n",
       "2000-01              0.1056\n",
       "2000-02              0.2878\n",
       "2000-03             -0.2022\n",
       "2000-04             -0.1169\n",
       "2000-05             -0.0613"
      ]
     },
     "execution_count": 72,
     "metadata": {},
     "output_type": "execute_result"
    }
   ],
   "source": [
    "lower20=(ff_port.iloc[:,4])/100\n",
    "upper20=(ff_port.iloc[:,8])/100\n",
    "long_short20=lower20-upper20\n",
    "long_short20=pd.DataFrame(long_short20, columns=[\"Returns size 20/20\"])\n",
    "long_short20=long_short20[\"2000\":\"2021\"]\n",
    "long_short20.head()"
   ]
  },
  {
   "cell_type": "code",
   "execution_count": 73,
   "metadata": {},
   "outputs": [
    {
     "data": {
      "text/plain": [
       "Returns size 20/20    0.028271\n",
       "dtype: float64"
      ]
     },
     "execution_count": 73,
     "metadata": {},
     "output_type": "execute_result"
    }
   ],
   "source": [
    "long_short20_ann=((1+long_short20).prod())**(12/n)-1 # Annualizing\n",
    "long_short20_ann"
   ]
  },
  {
   "cell_type": "code",
   "execution_count": 86,
   "metadata": {},
   "outputs": [
    {
     "data": {
      "text/plain": [
       "Ttest_1sampResult(statistic=array([1.17969057]), pvalue=array([0.23918929]))"
      ]
     },
     "execution_count": 86,
     "metadata": {},
     "output_type": "execute_result"
    }
   ],
   "source": [
    "stats.ttest_1samp(long_short20, h0)"
   ]
  },
  {
   "cell_type": "code",
   "execution_count": null,
   "metadata": {},
   "outputs": [],
   "source": []
  },
  {
   "cell_type": "markdown",
   "metadata": {},
   "source": [
    "######################################  10/10 PORTFOLIO   #####################################################################"
   ]
  },
  {
   "cell_type": "code",
   "execution_count": 74,
   "metadata": {},
   "outputs": [
    {
     "data": {
      "text/html": [
       "<div>\n",
       "<style scoped>\n",
       "    .dataframe tbody tr th:only-of-type {\n",
       "        vertical-align: middle;\n",
       "    }\n",
       "\n",
       "    .dataframe tbody tr th {\n",
       "        vertical-align: top;\n",
       "    }\n",
       "\n",
       "    .dataframe thead th {\n",
       "        text-align: right;\n",
       "    }\n",
       "</style>\n",
       "<table border=\"1\" class=\"dataframe\">\n",
       "  <thead>\n",
       "    <tr style=\"text-align: right;\">\n",
       "      <th></th>\n",
       "      <th>Returns size 10/10</th>\n",
       "    </tr>\n",
       "  </thead>\n",
       "  <tbody>\n",
       "    <tr>\n",
       "      <th>2000-01</th>\n",
       "      <td>0.1539</td>\n",
       "    </tr>\n",
       "    <tr>\n",
       "      <th>2000-02</th>\n",
       "      <td>0.3186</td>\n",
       "    </tr>\n",
       "    <tr>\n",
       "      <th>2000-03</th>\n",
       "      <td>-0.2088</td>\n",
       "    </tr>\n",
       "    <tr>\n",
       "      <th>2000-04</th>\n",
       "      <td>-0.1468</td>\n",
       "    </tr>\n",
       "    <tr>\n",
       "      <th>2000-05</th>\n",
       "      <td>-0.0764</td>\n",
       "    </tr>\n",
       "  </tbody>\n",
       "</table>\n",
       "</div>"
      ],
      "text/plain": [
       "         Returns size 10/10\n",
       "2000-01              0.1539\n",
       "2000-02              0.3186\n",
       "2000-03             -0.2088\n",
       "2000-04             -0.1468\n",
       "2000-05             -0.0764"
      ]
     },
     "execution_count": 74,
     "metadata": {},
     "output_type": "execute_result"
    }
   ],
   "source": [
    "lower10=(ff_port.iloc[:,9])/100\n",
    "upper10=(ff_port.iloc[:,18])/100\n",
    "long_short10=lower10-upper10\n",
    "long_short10=pd.DataFrame(long_short10, columns=[\"Returns size 10/10\"])\n",
    "long_short10=long_short10[\"2000\":\"2021\"]\n",
    "long_short10.head()"
   ]
  },
  {
   "cell_type": "code",
   "execution_count": 75,
   "metadata": {},
   "outputs": [
    {
     "data": {
      "text/plain": [
       "Returns size 10/10    0.033774\n",
       "dtype: float64"
      ]
     },
     "execution_count": 75,
     "metadata": {},
     "output_type": "execute_result"
    }
   ],
   "source": [
    "long_short10_ann=((1+long_short10).prod())**(12/n)-1 # Annualizing\n",
    "long_short10_ann"
   ]
  },
  {
   "cell_type": "code",
   "execution_count": 77,
   "metadata": {},
   "outputs": [
    {
     "data": {
      "text/plain": [
       "Returns size 10/10    0.00306\n",
       "dtype: float64"
      ]
     },
     "execution_count": 77,
     "metadata": {},
     "output_type": "execute_result"
    }
   ],
   "source": [
    "# t stats for the annualized returns of long_short10 portfolio\n",
    "\n",
    "sample_size=long_short10.size # No. of rows\n",
    "point_est_mean=long_short10.mean()\n",
    "std_error=long_short10.std(ddof=1)/np.sqrt(sample_size)\n",
    "std_error"
   ]
  },
  {
   "cell_type": "code",
   "execution_count": 78,
   "metadata": {},
   "outputs": [],
   "source": [
    "# defining the parameters\n",
    "\n",
    "h0=0\n",
    "conf=0.95\n"
   ]
  },
  {
   "cell_type": "code",
   "execution_count": 79,
   "metadata": {},
   "outputs": [
    {
     "data": {
      "text/plain": [
       "Returns size 10/10    1.297575\n",
       "dtype: float64"
      ]
     },
     "execution_count": 79,
     "metadata": {},
     "output_type": "execute_result"
    }
   ],
   "source": [
    "# t test\n",
    "\n",
    "tstat= (point_est_mean-h0)/std_error\n",
    "tstat"
   ]
  },
  {
   "cell_type": "markdown",
   "metadata": {},
   "source": [
    "## OR"
   ]
  },
  {
   "cell_type": "code",
   "execution_count": 81,
   "metadata": {},
   "outputs": [],
   "source": [
    "from scipy import stats"
   ]
  },
  {
   "cell_type": "code",
   "execution_count": 84,
   "metadata": {},
   "outputs": [
    {
     "data": {
      "text/plain": [
       "Ttest_1sampResult(statistic=array([1.29757505]), pvalue=array([0.19557036]))"
      ]
     },
     "execution_count": 84,
     "metadata": {},
     "output_type": "execute_result"
    }
   ],
   "source": [
    "stats.ttest_1samp(long_short10, h0)"
   ]
  },
  {
   "cell_type": "markdown",
   "metadata": {},
   "source": [
    "#############################################################################################################################"
   ]
  },
  {
   "cell_type": "code",
   "execution_count": null,
   "metadata": {},
   "outputs": [],
   "source": []
  },
  {
   "cell_type": "code",
   "execution_count": null,
   "metadata": {},
   "outputs": [],
   "source": []
  },
  {
   "cell_type": "code",
   "execution_count": null,
   "metadata": {},
   "outputs": [],
   "source": []
  },
  {
   "cell_type": "code",
   "execution_count": null,
   "metadata": {},
   "outputs": [],
   "source": []
  },
  {
   "cell_type": "code",
   "execution_count": null,
   "metadata": {},
   "outputs": [],
   "source": []
  },
  {
   "cell_type": "code",
   "execution_count": null,
   "metadata": {},
   "outputs": [],
   "source": []
  },
  {
   "cell_type": "code",
   "execution_count": null,
   "metadata": {},
   "outputs": [],
   "source": []
  },
  {
   "cell_type": "code",
   "execution_count": null,
   "metadata": {},
   "outputs": [],
   "source": []
  },
  {
   "cell_type": "code",
   "execution_count": null,
   "metadata": {},
   "outputs": [],
   "source": []
  },
  {
   "cell_type": "code",
   "execution_count": null,
   "metadata": {},
   "outputs": [],
   "source": []
  },
  {
   "cell_type": "code",
   "execution_count": null,
   "metadata": {},
   "outputs": [],
   "source": []
  },
  {
   "cell_type": "code",
   "execution_count": null,
   "metadata": {},
   "outputs": [],
   "source": []
  },
  {
   "cell_type": "code",
   "execution_count": null,
   "metadata": {},
   "outputs": [],
   "source": []
  }
 ],
 "metadata": {
  "kernelspec": {
   "display_name": "Python 3",
   "language": "python",
   "name": "python3"
  },
  "language_info": {
   "codemirror_mode": {
    "name": "ipython",
    "version": 3
   },
   "file_extension": ".py",
   "mimetype": "text/x-python",
   "name": "python",
   "nbconvert_exporter": "python",
   "pygments_lexer": "ipython3",
   "version": "3.6.4"
  }
 },
 "nbformat": 4,
 "nbformat_minor": 2
}
